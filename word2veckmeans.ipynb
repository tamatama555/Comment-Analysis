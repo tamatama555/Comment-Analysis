{
 "cells": [
  {
   "cell_type": "code",
   "execution_count": 37,
   "metadata": {},
   "outputs": [],
   "source": [
    "import pandas as pd\n",
    "import numpy as np\n",
    "import nltk\n",
    "import gensim\n",
    "import re\n",
    "import sklearn\n",
    "import multiprocessing\n",
    "import matplotlib.pyplot as plt\n",
    "import seaborn as sns\n",
    "from gensim import models\n",
    "from gensim.models import Word2Vec, KeyedVectors\n",
    "from nltk.corpus import stopwords\n",
    "from sklearn import metrics\n",
    "from sklearn.metrics import silhouette_samples, silhouette_score\n",
    "from sklearn.cluster import KMeans\n",
    "from sklearn.metrics import confusion_matrix, classification_report, precision_recall_fscore_support, silhouette_score"
   ]
  },
  {
   "cell_type": "code",
   "execution_count": 38,
   "metadata": {},
   "outputs": [],
   "source": [
    "df = pd.read_csv('clean.csv')"
   ]
  },
  {
   "cell_type": "code",
   "execution_count": 39,
   "metadata": {},
   "outputs": [],
   "source": [
    "i=0\n",
    "list_of_sent=[]\n",
    "for sent in df['Comment'].values.astype(str):\n",
    "    list_of_sent.append(sent.split())"
   ]
  },
  {
   "cell_type": "code",
   "execution_count": 40,
   "metadata": {},
   "outputs": [],
   "source": [
    "import re\n",
    "def cleanhtml(sentence): \n",
    "    cleanr = re.compile('<.*?>')\n",
    "    cleantext = re.sub(cleanr, ' ', sentence)\n",
    "    return cleantext\n",
    "def cleanpunc(sentence): \n",
    "    cleaned = re.sub(r'[?|!|\\'|\"|#]',r'',sentence)\n",
    "    cleaned = re.sub(r'[.|,|)|(|\\|/]',r' ',cleaned)\n",
    "    return  cleaned"
   ]
  },
  {
   "cell_type": "code",
   "execution_count": 41,
   "metadata": {},
   "outputs": [],
   "source": [
    "i=0\n",
    "list_of_sent_train=[]\n",
    "for sent in df['Comment'].values.astype(str):\n",
    "    filtered_sentence=[]\n",
    "    sent=cleanhtml(sent)\n",
    "    for w in sent.split():\n",
    "        for cleaned_words in cleanpunc(w).split():\n",
    "            if(cleaned_words.isalpha()):    \n",
    "                filtered_sentence.append(cleaned_words.lower())\n",
    "            else:\n",
    "                continue \n",
    "    list_of_sent_train.append(filtered_sentence)"
   ]
  },
  {
   "cell_type": "code",
   "execution_count": 42,
   "metadata": {},
   "outputs": [],
   "source": [
    "w2v_model=gensim.models.Word2Vec(list_of_sent_train,vector_size=100, epochs = 5, workers=4)"
   ]
  },
  {
   "cell_type": "code",
   "execution_count": 43,
   "metadata": {},
   "outputs": [
    {
     "name": "stderr",
     "output_type": "stream",
     "text": [
      "C:\\Users\\adita\\AppData\\Local\\Temp\\ipykernel_8704\\118135359.py:12: RuntimeWarning: invalid value encountered in true_divide\n",
      "  sent_vec /= cnt_words\n"
     ]
    },
    {
     "data": {
      "text/plain": [
       "(6084, 100)"
      ]
     },
     "execution_count": 43,
     "metadata": {},
     "output_type": "execute_result"
    }
   ],
   "source": [
    "sent_vectors = []; \n",
    "for sent in list_of_sent_train:\n",
    "    sent_vec = np.zeros(100)\n",
    "    cnt_words =0;\n",
    "    for word in sent:\n",
    "        try:\n",
    "            vec = w2v_model.wv[word]\n",
    "            sent_vec += vec\n",
    "            cnt_words += 1\n",
    "        except:\n",
    "            pass\n",
    "    sent_vec /= cnt_words\n",
    "    sent_vectors.append(sent_vec)\n",
    "sent_vectors = np.array(sent_vectors)\n",
    "sent_vectors = np.nan_to_num(sent_vectors)\n",
    "sent_vectors.shape"
   ]
  },
  {
   "cell_type": "code",
   "execution_count": 44,
   "metadata": {},
   "outputs": [
    {
     "data": {
      "text/plain": [
       "[1, 2, 3, 4, 5, 6, 7, 8, 9, 10]"
      ]
     },
     "execution_count": 44,
     "metadata": {},
     "output_type": "execute_result"
    }
   ],
   "source": [
    "num_clus = [x for x in range(1,11)]\n",
    "num_clus"
   ]
  },
  {
   "cell_type": "code",
   "execution_count": 45,
   "metadata": {
    "scrolled": false
   },
   "outputs": [
    {
     "data": {
      "image/png": "[encoded data removed]",
      "text/plain": [
       "<Figure size 432x288 with 1 Axes>"
      ]
     },
     "metadata": {
      "needs_background": "light"
     },
     "output_type": "display_data"
    }
   ],
   "source": [
    "squared_errors = []\n",
    "for cluster in num_clus:\n",
    "    kmeans = KMeans(n_clusters = cluster).fit(sent_vectors)\n",
    "    squared_errors.append(kmeans.inertia_) \n",
    "    \n",
    "optimal_clusters = np.argmin(squared_errors) + 2 \n",
    "plt.plot(num_clus, squared_errors)\n",
    "plt.title(\"Elbow Curve to find the no. of clusters.\")\n",
    "plt.xlabel(\"Number of clusters.\")\n",
    "plt.ylabel(\"Squared Loss.\")\n",
    "xy = (optimal_clusters, min(squared_errors))\n",
    "plt.annotate('(%s, %s)' % xy, xy = xy, textcoords='data')\n",
    "plt.show()\n"
   ]
  },
  {
   "cell_type": "code",
   "execution_count": 46,
   "metadata": {},
   "outputs": [],
   "source": [
    "numpy_array = np.array(squared_errors)"
   ]
  },
  {
   "cell_type": "code",
   "execution_count": 47,
   "metadata": {},
   "outputs": [],
   "source": [
    "temp = pd.DataFrame(numpy_array,columns = ['SSE'])"
   ]
  },
  {
   "cell_type": "code",
   "execution_count": 48,
   "metadata": {},
   "outputs": [],
   "source": [
    "temp['Diff'] = temp.diff()"
   ]
  },
  {
   "cell_type": "code",
   "execution_count": 49,
   "metadata": {
    "scrolled": false
   },
   "outputs": [
    {
     "data": {
      "text/html": [
       "<div>\n",
       "<style scoped>\n",
       "    .dataframe tbody tr th:only-of-type {\n",
       "        vertical-align: middle;\n",
       "    }\n",
       "\n",
       "    .dataframe tbody tr th {\n",
       "        vertical-align: top;\n",
       "    }\n",
       "\n",
       "    .dataframe thead th {\n",
       "        text-align: right;\n",
       "    }\n",
       "</style>\n",
       "<table border=\"1\" class=\"dataframe\">\n",
       "  <thead>\n",
       "    <tr style=\"text-align: right;\">\n",
       "      <th></th>\n",
       "      <th>SSE</th>\n",
       "      <th>Diff</th>\n",
       "    </tr>\n",
       "  </thead>\n",
       "  <tbody>\n",
       "    <tr>\n",
       "      <th>0</th>\n",
       "      <td>12410.677311</td>\n",
       "      <td>NaN</td>\n",
       "    </tr>\n",
       "    <tr>\n",
       "      <th>1</th>\n",
       "      <td>9087.200574</td>\n",
       "      <td>-3323.476737</td>\n",
       "    </tr>\n",
       "    <tr>\n",
       "      <th>2</th>\n",
       "      <td>6726.445382</td>\n",
       "      <td>-2360.755192</td>\n",
       "    </tr>\n",
       "    <tr>\n",
       "      <th>3</th>\n",
       "      <td>4987.828812</td>\n",
       "      <td>-1738.616570</td>\n",
       "    </tr>\n",
       "    <tr>\n",
       "      <th>4</th>\n",
       "      <td>4246.577650</td>\n",
       "      <td>-741.251162</td>\n",
       "    </tr>\n",
       "    <tr>\n",
       "      <th>5</th>\n",
       "      <td>3554.605139</td>\n",
       "      <td>-691.972511</td>\n",
       "    </tr>\n",
       "    <tr>\n",
       "      <th>6</th>\n",
       "      <td>2873.252521</td>\n",
       "      <td>-681.352618</td>\n",
       "    </tr>\n",
       "    <tr>\n",
       "      <th>7</th>\n",
       "      <td>2518.099681</td>\n",
       "      <td>-355.152840</td>\n",
       "    </tr>\n",
       "    <tr>\n",
       "      <th>8</th>\n",
       "      <td>2208.082223</td>\n",
       "      <td>-310.017458</td>\n",
       "    </tr>\n",
       "    <tr>\n",
       "      <th>9</th>\n",
       "      <td>1991.353691</td>\n",
       "      <td>-216.728533</td>\n",
       "    </tr>\n",
       "  </tbody>\n",
       "</table>\n",
       "</div>"
      ],
      "text/plain": [
       "            SSE         Diff\n",
       "0  12410.677311          NaN\n",
       "1   9087.200574 -3323.476737\n",
       "2   6726.445382 -2360.755192\n",
       "3   4987.828812 -1738.616570\n",
       "4   4246.577650  -741.251162\n",
       "5   3554.605139  -691.972511\n",
       "6   2873.252521  -681.352618\n",
       "7   2518.099681  -355.152840\n",
       "8   2208.082223  -310.017458\n",
       "9   1991.353691  -216.728533"
      ]
     },
     "execution_count": 49,
     "metadata": {},
     "output_type": "execute_result"
    }
   ],
   "source": [
    "temp"
   ]
  },
  {
   "cell_type": "code",
   "execution_count": 50,
   "metadata": {},
   "outputs": [],
   "source": [
    "n_clusters=4"
   ]
  },
  {
   "cell_type": "code",
   "execution_count": 51,
   "metadata": {},
   "outputs": [
    {
     "data": {
      "text/plain": [
       "KMeans(n_clusters=7)"
      ]
     },
     "execution_count": 51,
     "metadata": {},
     "output_type": "execute_result"
    }
   ],
   "source": [
    "model2 = KMeans(n_clusters = 7,init = 'k-means++')\n",
    "model2.fit(sent_vectors)"
   ]
  },
  {
   "cell_type": "code",
   "execution_count": 52,
   "metadata": {},
   "outputs": [],
   "source": [
    "word_cluster_pred=model2.predict(sent_vectors)\n",
    "word_cluster_pred_2=model2.labels_\n",
    "word_cluster_center=model2.cluster_centers_"
   ]
  },
  {
   "cell_type": "code",
   "execution_count": 53,
   "metadata": {
    "scrolled": true
   },
   "outputs": [
    {
     "data": {
      "text/plain": [
       "array([[-7.90656837e-03,  4.26480891e-02,  5.08241888e-02,\n",
       "        -1.95676910e-02,  2.52446955e-02, -1.15586449e-01,\n",
       "         3.29032687e-02,  1.41936836e-01, -7.30951869e-02,\n",
       "        -8.14270414e-02, -1.12215743e-02, -1.09066659e-01,\n",
       "        -2.24973882e-02,  4.34794855e-02,  1.39795879e-02,\n",
       "        -2.60517379e-02,  3.48032584e-02, -6.21351783e-02,\n",
       "        -1.40775457e-02, -1.33557660e-01,  4.89822938e-02,\n",
       "         7.90410118e-03, -9.25321644e-03, -9.75951796e-02,\n",
       "        -4.27026295e-03,  2.03319454e-02, -6.85183777e-02,\n",
       "        -5.92625592e-02, -4.75055872e-02,  2.23990336e-02,\n",
       "         8.30978863e-02,  2.37855886e-03,  1.41283156e-02,\n",
       "        -6.08620413e-02,  1.65465282e-02,  8.14039952e-02,\n",
       "        -2.72549053e-02, -3.17223088e-02, -2.02973973e-02,\n",
       "        -1.19196190e-01,  4.66453737e-02, -8.26823869e-02,\n",
       "        -4.41751589e-02,  3.14080096e-02,  4.52855946e-02,\n",
       "         1.75731692e-02, -4.21993331e-02,  8.04543145e-03,\n",
       "         4.94090629e-02,  6.73556794e-02,  1.26650187e-02,\n",
       "        -5.77332523e-02, -1.46331848e-03,  2.21627697e-02,\n",
       "        -3.14586024e-02,  6.41857539e-02,  1.22757292e-02,\n",
       "        -2.51504187e-02, -6.89375101e-02,  4.01354123e-02,\n",
       "        -1.85258973e-02,  1.55057261e-02, -4.38910110e-02,\n",
       "        -7.00663767e-03, -6.08576985e-02,  4.90198756e-02,\n",
       "         3.20485348e-02,  4.51169607e-02, -8.38160669e-02,\n",
       "         7.33551364e-02, -5.82371034e-02,  1.53587076e-02,\n",
       "         7.18703051e-02, -1.04045229e-02,  5.06977427e-02,\n",
       "         3.93432647e-02,  1.03161384e-02, -5.91203428e-02,\n",
       "        -5.14082606e-02,  5.96050920e-02, -3.48660161e-02,\n",
       "         1.67143317e-02, -6.86904409e-02,  7.79290913e-02,\n",
       "        -1.01371893e-02, -9.88933494e-03,  1.62670487e-02,\n",
       "         6.57796159e-02,  4.54325617e-02,  2.70170249e-02,\n",
       "         6.58442912e-02,  5.27651920e-02, -1.02278756e-02,\n",
       "         1.44478005e-02,  8.17645761e-02,  5.23055203e-02,\n",
       "         5.30545841e-02, -9.60292204e-02,  1.74511982e-02,\n",
       "        -2.47271842e-02],\n",
       "       [-1.37926961e-02,  1.87892312e-01,  1.89517391e-01,\n",
       "        -1.07832871e-01,  7.87639555e-02, -5.19625212e-01,\n",
       "         1.30811129e-01,  6.14923994e-01, -3.70058036e-01,\n",
       "        -3.62102301e-01, -3.29434119e-02, -4.36380752e-01,\n",
       "        -9.22341484e-02,  2.29666174e-01,  9.18689260e-02,\n",
       "        -1.00366020e-01,  1.74456574e-01, -2.13294317e-01,\n",
       "        -1.22646113e-01, -6.03873535e-01,  2.05843218e-01,\n",
       "         1.64441606e-02, -3.06325223e-02, -4.54255761e-01,\n",
       "        -8.58129256e-02,  1.04920508e-01, -3.04563963e-01,\n",
       "        -2.42245885e-01, -1.77202130e-01,  1.07470949e-01,\n",
       "         4.30336861e-01,  1.12438052e-02,  5.58712508e-02,\n",
       "        -2.95458295e-01,  6.94335378e-02,  3.52345228e-01,\n",
       "        -1.06701310e-01, -1.11341846e-01, -6.83060488e-02,\n",
       "        -4.83673909e-01,  2.83678998e-01, -3.61600233e-01,\n",
       "        -1.94624674e-01,  1.83057177e-01,  2.57220006e-01,\n",
       "         1.20476662e-01, -1.91990908e-01,  1.10898618e-02,\n",
       "         2.36135128e-01,  2.72133110e-01,  7.13279195e-02,\n",
       "        -2.70193043e-01, -1.58935400e-02,  8.16565068e-02,\n",
       "        -1.37551023e-01,  2.45641638e-01,  2.84852419e-02,\n",
       "        -1.19786933e-01, -2.80543720e-01,  1.55251936e-01,\n",
       "        -9.04445992e-02,  6.90081396e-02, -2.25524844e-01,\n",
       "         2.96937644e-02, -2.47872128e-01,  2.21416450e-01,\n",
       "         1.74392176e-01,  1.84554669e-01, -4.11515074e-01,\n",
       "         3.63557393e-01, -3.17995157e-01,  2.37032931e-02,\n",
       "         3.10697393e-01, -5.01318576e-02,  2.33906392e-01,\n",
       "         1.94849613e-01,  5.28464562e-02, -2.41193431e-01,\n",
       "        -1.88168829e-01,  2.41734961e-01, -1.74525861e-01,\n",
       "         5.88790327e-02, -3.69425124e-01,  3.98450786e-01,\n",
       "        -4.19013055e-04, -1.17406494e-03,  1.08143058e-01,\n",
       "         2.42570381e-01,  1.88802847e-01,  1.58805980e-01,\n",
       "         2.98160054e-01,  2.36767804e-01, -3.00466018e-02,\n",
       "         3.83117570e-02,  3.11642831e-01,  2.05066123e-01,\n",
       "         2.34574692e-01, -4.30414593e-01,  1.15911004e-01,\n",
       "        -9.59830699e-02],\n",
       "       [-1.41328769e-01,  4.83411200e-01,  8.26672568e-02,\n",
       "        -2.53788834e-01,  2.52745826e-01, -5.27534266e-01,\n",
       "         2.51632461e-01,  5.79731914e-01, -3.92437203e-01,\n",
       "         9.15902142e-02, -1.93043246e-01, -7.49701804e-01,\n",
       "        -4.20914385e-01,  1.08375241e-01,  1.79167393e-01,\n",
       "        -5.24162218e-01,  1.31334504e-01, -4.77596013e-01,\n",
       "         5.86149136e-02, -8.08807406e-01,  4.70788854e-01,\n",
       "         2.98861505e-01, -9.53625422e-03, -4.62888199e-01,\n",
       "        -1.23197995e-01,  8.05173463e-02, -5.12079412e-01,\n",
       "        -6.51021024e-01, -1.29343295e-01,  1.60631377e-01,\n",
       "         6.37889209e-01,  1.81891125e-01,  2.97625366e-01,\n",
       "        -6.58353976e-01,  1.31292630e-01,  2.39120481e-01,\n",
       "        -4.59686784e-02, -1.16442605e-01, -4.61740042e-01,\n",
       "        -7.87494561e-01, -1.45954396e-01, -4.85797804e-01,\n",
       "         1.87215016e-01,  1.13702973e-01,  1.51409046e-01,\n",
       "        -1.97573218e-02, -2.54856503e-01,  2.51365502e-01,\n",
       "         2.67171705e-01,  2.36716843e-01,  1.35980011e-02,\n",
       "        -2.59124974e-01,  1.33361900e-01,  1.48715486e-01,\n",
       "        -2.29254678e-01,  5.06816308e-01,  3.87423619e-01,\n",
       "         4.00456449e-01, -5.55005202e-01,  3.80404454e-01,\n",
       "         3.35988561e-01,  1.33772346e-01, -2.68374524e-01,\n",
       "        -5.89360902e-02, -4.01134735e-01,  3.77396164e-01,\n",
       "         3.28971799e-02,  3.56106571e-01, -5.25702263e-01,\n",
       "         1.24535510e-01, -5.65419907e-01,  1.40690271e-01,\n",
       "         3.98555415e-01, -1.43208356e-01,  3.30466243e-01,\n",
       "        -7.93204277e-02,  3.23502148e-02, -2.74816373e-01,\n",
       "        -1.85833033e-01,  3.18182000e-02, -2.12225540e-01,\n",
       "        -4.67385472e-02, -3.28505785e-01,  3.71029608e-01,\n",
       "         2.20162162e-01, -2.76428007e-01,  1.53558533e-01,\n",
       "         6.61855780e-01,  5.34262483e-01,  1.79548512e-01,\n",
       "         3.70495945e-01,  3.67060420e-01, -3.07855552e-01,\n",
       "         6.25336607e-02,  4.08146178e-01,  3.63831593e-01,\n",
       "         4.07916241e-01, -6.64036976e-01,  2.47263760e-01,\n",
       "        -3.14710862e-01],\n",
       "       [-3.05867282e-01,  4.74864384e-01, -4.03481382e-03,\n",
       "        -3.38494338e-01, -3.27642202e-01, -8.00027677e-01,\n",
       "         1.21887841e-01,  4.90088078e-01, -5.73383315e-01,\n",
       "        -3.33088766e-01, -1.35376676e-01, -2.42050125e-01,\n",
       "        -2.94533281e-01,  1.35053704e-01,  1.93801984e-01,\n",
       "         1.89275041e-01,  4.33309504e-01,  1.06275772e-01,\n",
       "        -5.08542445e-01, -9.89314217e-01,  1.44353849e-01,\n",
       "         6.01983790e-02, -6.16693469e-02, -2.70848639e-01,\n",
       "        -1.70824956e-01,  3.78118787e-01, -4.85557869e-01,\n",
       "        -6.93174034e-01, -6.69991282e-03,  1.50054135e-01,\n",
       "         8.97461060e-01,  3.41724610e-01,  3.50242868e-01,\n",
       "        -4.00672208e-01,  3.14873474e-01,  2.03009863e-01,\n",
       "        -1.05561961e-01, -4.13973071e-02,  5.85856140e-02,\n",
       "        -6.49663552e-01,  1.90521123e-01, -5.25327673e-01,\n",
       "         2.38270474e-01,  3.99721083e-01,  5.67940064e-01,\n",
       "        -5.82578194e-02, -1.38374208e-01, -4.65303914e-02,\n",
       "         6.20251323e-01,  4.25278861e-02,  1.43230120e-01,\n",
       "        -1.66622780e-01, -1.97907071e-01,  8.12396531e-02,\n",
       "        -9.07414855e-02,  4.28047878e-01,  4.27347159e-01,\n",
       "         3.81300779e-02, -1.77317242e-01,  6.39251527e-01,\n",
       "         2.85236391e-01,  2.63010298e-01, -3.69363781e-01,\n",
       "         4.29259843e-01, -1.67968729e-01,  1.30311895e-01,\n",
       "         2.45144219e-01,  1.98956137e-01, -4.25187488e-01,\n",
       "         6.24182223e-01, -6.29461363e-01, -3.20423236e-01,\n",
       "         2.06853360e-01,  1.05228097e-01,  5.41217158e-01,\n",
       "         4.97187597e-01,  1.37201992e-01, -4.63923469e-02,\n",
       "        -4.32292763e-02, -1.05099290e-01,  3.24158854e-02,\n",
       "         3.50071958e-03, -4.25480182e-01,  7.84134037e-01,\n",
       "         4.43877068e-01,  2.08472539e-01,  3.16107071e-01,\n",
       "         4.13637743e-01,  3.83835070e-01,  2.51484178e-01,\n",
       "         6.43771469e-01,  3.15510840e-01, -1.20207344e-01,\n",
       "         6.54653675e-03,  2.53281721e-01, -1.46657208e-01,\n",
       "         6.61966876e-01, -7.56992536e-01,  2.87754141e-01,\n",
       "        -1.45802544e-01],\n",
       "       [-1.01206691e-01, -1.77193353e-01,  7.16204361e-01,\n",
       "         2.01193475e-01, -8.00645544e-02, -7.76958943e-01,\n",
       "         1.13404288e-01,  1.34707272e+00, -1.62649583e-01,\n",
       "        -1.21593882e+00, -2.74671344e-01, -4.45704304e-01,\n",
       "        -6.43135041e-02,  5.93391650e-02, -3.06571335e-01,\n",
       "         1.93991756e-01,  2.30622318e-01, -5.13258165e-01,\n",
       "         4.54567984e-02, -7.19926626e-01,  2.30506614e-01,\n",
       "         7.58947326e-02, -8.64956787e-02, -4.72226312e-01,\n",
       "         5.14216151e-01, -8.74484506e-02, -3.40315722e-01,\n",
       "        -1.33827240e-01, -6.11663986e-01,  1.61424530e-01,\n",
       "         1.60474330e-02, -3.11229739e-01,  2.56889754e-01,\n",
       "         4.89526874e-03, -2.82896392e-02,  8.52375459e-01,\n",
       "        -4.85162178e-01, -2.69553789e-01,  2.77676579e-01,\n",
       "        -6.26262732e-01,  7.14081424e-01, -5.11578676e-01,\n",
       "        -1.00303885e+00, -3.85013739e-02,  2.54615349e-01,\n",
       "        -1.26685698e-01, -8.88760804e-02, -2.49796959e-01,\n",
       "         3.80561028e-01,  6.42333474e-01,  4.04451123e-01,\n",
       "        -3.97904937e-01, -6.75578791e-02,  2.13310570e-02,\n",
       "        -3.27290289e-01,  4.25640761e-01, -3.95207713e-01,\n",
       "        -8.56204807e-01, -1.73406720e-01,  1.11807656e-01,\n",
       "        -5.65608499e-01,  7.09550085e-02,  4.21521692e-02,\n",
       "        -2.33263802e-01, -3.82413091e-01,  2.55260963e-01,\n",
       "         2.00106101e-01,  3.70305780e-01, -3.52956683e-01,\n",
       "         4.59053901e-01,  2.28645519e-01,  3.72860581e-01,\n",
       "         5.31280739e-01,  5.95290191e-02,  4.27998439e-01,\n",
       "         6.81271013e-01,  2.33557284e-01, -6.08562119e-01,\n",
       "        -5.85752910e-01,  8.87820316e-01, -2.54985955e-01,\n",
       "         1.62797698e-01, -2.38247956e-01,  6.83361162e-01,\n",
       "        -7.96926902e-01, -2.13584820e-01,  1.49091398e-02,\n",
       "         1.28818353e-01, -2.75144525e-02,  1.13632412e-01,\n",
       "         4.10032968e-01,  4.05736298e-01,  4.16901425e-01,\n",
       "         2.51388841e-01,  1.08556308e+00,  4.60303848e-01,\n",
       "         7.24336247e-02, -1.48119443e-01, -2.45466919e-01,\n",
       "        -1.52844607e-01],\n",
       "       [ 2.90989770e-03,  7.57392318e-02,  3.42170123e-01,\n",
       "        -2.74161717e-02,  6.25673280e-02, -5.89431788e-01,\n",
       "         1.21922061e-01,  7.98561339e-01, -3.48754601e-01,\n",
       "        -6.16074321e-01, -3.81478244e-02, -4.48941813e-01,\n",
       "        -2.05519819e-02,  2.47094957e-01,  1.19491649e-02,\n",
       "         3.38755365e-03,  1.87970048e-01, -2.61873608e-01,\n",
       "        -9.93406364e-02, -6.14577543e-01,  1.82993774e-01,\n",
       "        -2.88219420e-02, -5.61222531e-02, -5.09147513e-01,\n",
       "         4.18380311e-02,  8.04475031e-02, -2.86636825e-01,\n",
       "        -1.55254730e-01, -2.87743271e-01,  1.09090792e-01,\n",
       "         3.19484419e-01, -7.91422656e-02,  2.42713739e-02,\n",
       "        -1.83389185e-01,  4.83461638e-02,  4.88925869e-01,\n",
       "        -1.93240811e-01, -1.56479576e-01,  4.38517733e-02,\n",
       "        -5.05979818e-01,  4.26950308e-01, -3.90612416e-01,\n",
       "        -4.36204281e-01,  1.53310951e-01,  2.56220415e-01,\n",
       "         1.14837986e-01, -1.81444495e-01, -5.05933315e-02,\n",
       "         2.44446359e-01,  3.88048107e-01,  1.19274331e-01,\n",
       "        -3.18157120e-01, -4.13322383e-02,  7.99156415e-02,\n",
       "        -1.53911491e-01,  2.56977021e-01, -1.13336367e-01,\n",
       "        -3.55722969e-01, -2.49007079e-01,  1.08809184e-01,\n",
       "        -2.72863560e-01,  5.55454912e-02, -1.85367448e-01,\n",
       "        -3.41405896e-02, -2.66387007e-01,  2.19081310e-01,\n",
       "         2.06122455e-01,  1.92336923e-01, -3.94414231e-01,\n",
       "         4.29187869e-01, -1.77076720e-01,  8.94511480e-02,\n",
       "         3.58056383e-01, -3.14258813e-02,  2.41682623e-01,\n",
       "         3.16935582e-01,  8.22205864e-02, -3.32958203e-01,\n",
       "        -2.88756350e-01,  4.35970494e-01, -1.92922317e-01,\n",
       "         1.18272301e-01, -3.58151148e-01,  4.29458904e-01,\n",
       "        -2.00557960e-01, -5.89542528e-03,  6.46958549e-02,\n",
       "         1.72308981e-01,  1.03202324e-01,  1.40278570e-01,\n",
       "         3.07149051e-01,  2.49832504e-01,  7.63449843e-02,\n",
       "         7.66152107e-02,  4.58466058e-01,  2.56113228e-01,\n",
       "         1.81609029e-01, -3.76640506e-01,  2.26656758e-02,\n",
       "        -6.77928955e-02],\n",
       "       [-1.39919102e-01,  2.71120851e-01,  6.71334531e-01,\n",
       "         1.02953515e-01,  4.45105100e-01, -9.15329745e-01,\n",
       "         3.74077660e-01,  1.05473375e+00, -2.31370680e-01,\n",
       "        -1.05393224e+00,  1.50677809e-01, -1.03146928e+00,\n",
       "         2.65209798e-01,  3.23852465e-01, -1.43819232e-01,\n",
       "         1.67290696e-01,  2.06381769e-01, -7.27722845e-01,\n",
       "        -4.55989509e-02, -8.10530511e-01, -6.38804266e-02,\n",
       "        -3.37038518e-01, -1.27706485e-01, -5.49708053e-01,\n",
       "         4.66989771e-01,  2.14250680e-01, -3.08856789e-01,\n",
       "        -2.60068405e-01, -7.37534953e-01,  1.24403256e-02,\n",
       "         5.06355429e-02, -4.04400452e-03, -3.90313249e-01,\n",
       "         1.17330038e-01,  2.27008185e-01,  7.44573653e-01,\n",
       "        -2.06635477e-01, -6.09577526e-01,  3.89870286e-02,\n",
       "        -1.15283615e+00, -3.02624021e-01, -5.76803946e-01,\n",
       "        -3.70488185e-01,  1.24187476e-01,  4.08803264e-02,\n",
       "         6.41768232e-03, -2.94795455e-01,  7.31961967e-02,\n",
       "         1.53388025e-01,  8.05133586e-01, -1.94679130e-01,\n",
       "        -1.85406817e-01, -2.23766622e-01,  3.69326471e-01,\n",
       "        -2.82970013e-02,  5.06562240e-01,  2.93745938e-01,\n",
       "        -5.78818220e-01, -6.84923604e-01,  5.01589875e-01,\n",
       "        -3.61175538e-01,  7.68302327e-02, -2.80298533e-02,\n",
       "        -4.91887804e-01, -5.89722865e-01, -5.15206205e-03,\n",
       "         2.52805839e-01,  2.57705431e-01, -9.87263413e-02,\n",
       "         8.22685557e-01,  3.19494049e-01,  1.70882586e-01,\n",
       "         4.84549228e-01,  1.96160784e-01,  1.79320141e-01,\n",
       "         3.11878888e-01, -1.65541887e-01, -3.37185069e-01,\n",
       "        -6.72186257e-01,  6.00401702e-01,  1.45086611e-01,\n",
       "         5.00543487e-01,  1.20188240e-02, -4.74805942e-02,\n",
       "        -4.88305114e-01,  1.08279680e-01, -2.62914050e-01,\n",
       "         7.96488657e-01,  1.65659669e-01, -3.01676624e-01,\n",
       "         4.18848009e-01,  9.77387900e-03, -5.20819137e-02,\n",
       "         2.64479305e-01,  6.40649310e-01,  2.04774110e-01,\n",
       "         4.07798560e-01, -7.32637081e-01, -3.29415978e-01,\n",
       "         5.53456236e-02]])"
      ]
     },
     "execution_count": 53,
     "metadata": {},
     "output_type": "execute_result"
    }
   ],
   "source": [
    "word_cluster_center"
   ]
  },
  {
   "cell_type": "code",
   "execution_count": 54,
   "metadata": {
    "scrolled": true
   },
   "outputs": [
    {
     "data": {
      "text/html": [
       "<div>\n",
       "<style scoped>\n",
       "    .dataframe tbody tr th:only-of-type {\n",
       "        vertical-align: middle;\n",
       "    }\n",
       "\n",
       "    .dataframe tbody tr th {\n",
       "        vertical-align: top;\n",
       "    }\n",
       "\n",
       "    .dataframe thead th {\n",
       "        text-align: right;\n",
       "    }\n",
       "</style>\n",
       "<table border=\"1\" class=\"dataframe\">\n",
       "  <thead>\n",
       "    <tr style=\"text-align: right;\">\n",
       "      <th></th>\n",
       "      <th>Unnamed: 0</th>\n",
       "      <th>Comment</th>\n",
       "      <th>cluster</th>\n",
       "    </tr>\n",
       "  </thead>\n",
       "  <tbody>\n",
       "    <tr>\n",
       "      <th>0</th>\n",
       "      <td>0</td>\n",
       "      <td>gegara liat photo raisa di timesquare ny jadi ...</td>\n",
       "      <td>1</td>\n",
       "    </tr>\n",
       "    <tr>\n",
       "      <th>1</th>\n",
       "      <td>1</td>\n",
       "      <td>ini clip      video clipnya berasa liat drama ...</td>\n",
       "      <td>1</td>\n",
       "    </tr>\n",
       "    <tr>\n",
       "      <th>2</th>\n",
       "      <td>2</td>\n",
       "      <td>semoga gua dapat kesempatan kedua sama sahabat...</td>\n",
       "      <td>5</td>\n",
       "    </tr>\n",
       "    <tr>\n",
       "      <th>3</th>\n",
       "      <td>3</td>\n",
       "      <td>iri banget ngeliat orang  di komen pada happy ...</td>\n",
       "      <td>5</td>\n",
       "    </tr>\n",
       "    <tr>\n",
       "      <th>4</th>\n",
       "      <td>4</td>\n",
       "      <td>backsound ps nih</td>\n",
       "      <td>1</td>\n",
       "    </tr>\n",
       "    <tr>\n",
       "      <th>...</th>\n",
       "      <td>...</td>\n",
       "      <td>...</td>\n",
       "      <td>...</td>\n",
       "    </tr>\n",
       "    <tr>\n",
       "      <th>6079</th>\n",
       "      <td>6474</td>\n",
       "      <td>selamat ulang tahun kak  aa sukses selaluuuu</td>\n",
       "      <td>1</td>\n",
       "    </tr>\n",
       "    <tr>\n",
       "      <th>6080</th>\n",
       "      <td>6476</td>\n",
       "      <td>first</td>\n",
       "      <td>0</td>\n",
       "    </tr>\n",
       "    <tr>\n",
       "      <th>6081</th>\n",
       "      <td>6477</td>\n",
       "      <td>hmm</td>\n",
       "      <td>0</td>\n",
       "    </tr>\n",
       "    <tr>\n",
       "      <th>6082</th>\n",
       "      <td>6478</td>\n",
       "      <td>kali kedua mantap</td>\n",
       "      <td>4</td>\n",
       "    </tr>\n",
       "    <tr>\n",
       "      <th>6083</th>\n",
       "      <td>6479</td>\n",
       "      <td>selamat ulang tahun    sukses terus untuk kamu...</td>\n",
       "      <td>5</td>\n",
       "    </tr>\n",
       "  </tbody>\n",
       "</table>\n",
       "<p>6084 rows × 3 columns</p>\n",
       "</div>"
      ],
      "text/plain": [
       "      Unnamed: 0                                            Comment  cluster\n",
       "0              0  gegara liat photo raisa di timesquare ny jadi ...        1\n",
       "1              1  ini clip      video clipnya berasa liat drama ...        1\n",
       "2              2  semoga gua dapat kesempatan kedua sama sahabat...        5\n",
       "3              3  iri banget ngeliat orang  di komen pada happy ...        5\n",
       "4              4                                   backsound ps nih        1\n",
       "...          ...                                                ...      ...\n",
       "6079        6474       selamat ulang tahun kak  aa sukses selaluuuu        1\n",
       "6080        6476                                              first        0\n",
       "6081        6477                                                hmm        0\n",
       "6082        6478                                  kali kedua mantap        4\n",
       "6083        6479  selamat ulang tahun    sukses terus untuk kamu...        5\n",
       "\n",
       "[6084 rows x 3 columns]"
      ]
     },
     "execution_count": 54,
     "metadata": {},
     "output_type": "execute_result"
    }
   ],
   "source": [
    "sil = model2.labels_\n",
    "df['cluster'] = model2.labels_\n",
    "df"
   ]
  },
  {
   "cell_type": "code",
   "execution_count": 55,
   "metadata": {},
   "outputs": [],
   "source": [
    "each_silhouette_score = silhouette_samples(sent_vectors,sil,metric=\"euclidean\")"
   ]
  },
  {
   "cell_type": "code",
   "execution_count": 56,
   "metadata": {},
   "outputs": [],
   "source": [
    "silhouette_score = sklearn.metrics.silhouette_score(sent_vectors, sil, metric='euclidean')"
   ]
  },
  {
   "cell_type": "code",
   "execution_count": 57,
   "metadata": {},
   "outputs": [],
   "source": [
    "sample_silhouette_values = metrics.silhouette_samples(sent_vectors,sil,metric='euclidean')\n",
    "num_clusters = 7\n",
    "means_lst = []\n",
    "for label in range(num_clusters):\n",
    "    means_lst.append(sample_silhouette_values[word_cluster_pred_2 == label].mean())"
   ]
  },
  {
   "cell_type": "code",
   "execution_count": 58,
   "metadata": {
    "scrolled": true
   },
   "outputs": [
    {
     "data": {
      "text/plain": [
       "0.34385277174322854"
      ]
     },
     "execution_count": 58,
     "metadata": {},
     "output_type": "execute_result"
    }
   ],
   "source": [
    "silhouette_score"
   ]
  },
  {
   "cell_type": "code",
   "execution_count": 59,
   "metadata": {
    "scrolled": true
   },
   "outputs": [
    {
     "data": {
      "text/plain": [
       "[0.6321938188506442,\n",
       " 0.24377542076186592,\n",
       " 0.47658070909933004,\n",
       " 0.45341924033953196,\n",
       " 0.3721501102858112,\n",
       " 0.32697576479083246,\n",
       " 0.3366342597650728]"
      ]
     },
     "execution_count": 59,
     "metadata": {},
     "output_type": "execute_result"
    }
   ],
   "source": [
    "means_lst"
   ]
  },
  {
   "cell_type": "code",
   "execution_count": 60,
   "metadata": {},
   "outputs": [],
   "source": [
    "df1 = pd.DataFrame(df, columns = ['Cluster', 'Count','Silhouette Score'])"
   ]
  },
  {
   "cell_type": "code",
   "execution_count": 61,
   "metadata": {},
   "outputs": [
    {
     "data": {
      "text/html": [
       "<div>\n",
       "<style scoped>\n",
       "    .dataframe tbody tr th:only-of-type {\n",
       "        vertical-align: middle;\n",
       "    }\n",
       "\n",
       "    .dataframe tbody tr th {\n",
       "        vertical-align: top;\n",
       "    }\n",
       "\n",
       "    .dataframe thead th {\n",
       "        text-align: right;\n",
       "    }\n",
       "</style>\n",
       "<table border=\"1\" class=\"dataframe\">\n",
       "  <thead>\n",
       "    <tr style=\"text-align: right;\">\n",
       "      <th></th>\n",
       "      <th>Unnamed: 0</th>\n",
       "      <th>Comment</th>\n",
       "    </tr>\n",
       "    <tr>\n",
       "      <th>cluster</th>\n",
       "      <th></th>\n",
       "      <th></th>\n",
       "    </tr>\n",
       "  </thead>\n",
       "  <tbody>\n",
       "    <tr>\n",
       "      <th>0</th>\n",
       "      <td>622</td>\n",
       "      <td>622</td>\n",
       "    </tr>\n",
       "    <tr>\n",
       "      <th>1</th>\n",
       "      <td>2462</td>\n",
       "      <td>2462</td>\n",
       "    </tr>\n",
       "    <tr>\n",
       "      <th>2</th>\n",
       "      <td>601</td>\n",
       "      <td>601</td>\n",
       "    </tr>\n",
       "    <tr>\n",
       "      <th>3</th>\n",
       "      <td>140</td>\n",
       "      <td>140</td>\n",
       "    </tr>\n",
       "    <tr>\n",
       "      <th>4</th>\n",
       "      <td>200</td>\n",
       "      <td>200</td>\n",
       "    </tr>\n",
       "    <tr>\n",
       "      <th>5</th>\n",
       "      <td>1953</td>\n",
       "      <td>1953</td>\n",
       "    </tr>\n",
       "    <tr>\n",
       "      <th>6</th>\n",
       "      <td>106</td>\n",
       "      <td>106</td>\n",
       "    </tr>\n",
       "  </tbody>\n",
       "</table>\n",
       "</div>"
      ],
      "text/plain": [
       "         Unnamed: 0  Comment\n",
       "cluster                     \n",
       "0               622      622\n",
       "1              2462     2462\n",
       "2               601      601\n",
       "3               140      140\n",
       "4               200      200\n",
       "5              1953     1953\n",
       "6               106      106"
      ]
     },
     "execution_count": 61,
     "metadata": {},
     "output_type": "execute_result"
    }
   ],
   "source": [
    "df.groupby('cluster').count()"
   ]
  },
  {
   "cell_type": "code",
   "execution_count": 62,
   "metadata": {},
   "outputs": [],
   "source": [
    "clust_groupby = df.groupby('cluster')"
   ]
  },
  {
   "cell_type": "code",
   "execution_count": 63,
   "metadata": {},
   "outputs": [
    {
     "data": {
      "text/html": [
       "<div>\n",
       "<style scoped>\n",
       "    .dataframe tbody tr th:only-of-type {\n",
       "        vertical-align: middle;\n",
       "    }\n",
       "\n",
       "    .dataframe tbody tr th {\n",
       "        vertical-align: top;\n",
       "    }\n",
       "\n",
       "    .dataframe thead th {\n",
       "        text-align: right;\n",
       "    }\n",
       "</style>\n",
       "<table border=\"1\" class=\"dataframe\">\n",
       "  <thead>\n",
       "    <tr style=\"text-align: right;\">\n",
       "      <th></th>\n",
       "      <th>cluster</th>\n",
       "      <th>count</th>\n",
       "    </tr>\n",
       "  </thead>\n",
       "  <tbody>\n",
       "    <tr>\n",
       "      <th>0</th>\n",
       "      <td>0</td>\n",
       "      <td>622</td>\n",
       "    </tr>\n",
       "    <tr>\n",
       "      <th>1</th>\n",
       "      <td>1</td>\n",
       "      <td>2462</td>\n",
       "    </tr>\n",
       "    <tr>\n",
       "      <th>2</th>\n",
       "      <td>2</td>\n",
       "      <td>601</td>\n",
       "    </tr>\n",
       "    <tr>\n",
       "      <th>3</th>\n",
       "      <td>3</td>\n",
       "      <td>140</td>\n",
       "    </tr>\n",
       "    <tr>\n",
       "      <th>4</th>\n",
       "      <td>4</td>\n",
       "      <td>200</td>\n",
       "    </tr>\n",
       "    <tr>\n",
       "      <th>5</th>\n",
       "      <td>5</td>\n",
       "      <td>1953</td>\n",
       "    </tr>\n",
       "    <tr>\n",
       "      <th>6</th>\n",
       "      <td>6</td>\n",
       "      <td>106</td>\n",
       "    </tr>\n",
       "  </tbody>\n",
       "</table>\n",
       "</div>"
      ],
      "text/plain": [
       "   cluster  count\n",
       "0        0    622\n",
       "1        1   2462\n",
       "2        2    601\n",
       "3        3    140\n",
       "4        4    200\n",
       "5        5   1953\n",
       "6        6    106"
      ]
     },
     "execution_count": 63,
     "metadata": {},
     "output_type": "execute_result"
    }
   ],
   "source": [
    "df1 = pd.DataFrame({'count':clust_groupby.size()}).reset_index()\n",
    "df1"
   ]
  },
  {
   "cell_type": "code",
   "execution_count": 64,
   "metadata": {},
   "outputs": [],
   "source": [
    "df1['Silhouette Score'] = means_lst"
   ]
  },
  {
   "cell_type": "code",
   "execution_count": 65,
   "metadata": {},
   "outputs": [
    {
     "data": {
      "text/html": [
       "<div>\n",
       "<style scoped>\n",
       "    .dataframe tbody tr th:only-of-type {\n",
       "        vertical-align: middle;\n",
       "    }\n",
       "\n",
       "    .dataframe tbody tr th {\n",
       "        vertical-align: top;\n",
       "    }\n",
       "\n",
       "    .dataframe thead th {\n",
       "        text-align: right;\n",
       "    }\n",
       "</style>\n",
       "<table border=\"1\" class=\"dataframe\">\n",
       "  <thead>\n",
       "    <tr style=\"text-align: right;\">\n",
       "      <th></th>\n",
       "      <th>cluster</th>\n",
       "      <th>count</th>\n",
       "      <th>Silhouette Score</th>\n",
       "    </tr>\n",
       "  </thead>\n",
       "  <tbody>\n",
       "    <tr>\n",
       "      <th>0</th>\n",
       "      <td>0</td>\n",
       "      <td>622</td>\n",
       "      <td>0.632194</td>\n",
       "    </tr>\n",
       "    <tr>\n",
       "      <th>1</th>\n",
       "      <td>1</td>\n",
       "      <td>2462</td>\n",
       "      <td>0.243775</td>\n",
       "    </tr>\n",
       "    <tr>\n",
       "      <th>2</th>\n",
       "      <td>2</td>\n",
       "      <td>601</td>\n",
       "      <td>0.476581</td>\n",
       "    </tr>\n",
       "    <tr>\n",
       "      <th>3</th>\n",
       "      <td>3</td>\n",
       "      <td>140</td>\n",
       "      <td>0.453419</td>\n",
       "    </tr>\n",
       "    <tr>\n",
       "      <th>4</th>\n",
       "      <td>4</td>\n",
       "      <td>200</td>\n",
       "      <td>0.372150</td>\n",
       "    </tr>\n",
       "    <tr>\n",
       "      <th>5</th>\n",
       "      <td>5</td>\n",
       "      <td>1953</td>\n",
       "      <td>0.326976</td>\n",
       "    </tr>\n",
       "    <tr>\n",
       "      <th>6</th>\n",
       "      <td>6</td>\n",
       "      <td>106</td>\n",
       "      <td>0.336634</td>\n",
       "    </tr>\n",
       "  </tbody>\n",
       "</table>\n",
       "</div>"
      ],
      "text/plain": [
       "   cluster  count  Silhouette Score\n",
       "0        0    622          0.632194\n",
       "1        1   2462          0.243775\n",
       "2        2    601          0.476581\n",
       "3        3    140          0.453419\n",
       "4        4    200          0.372150\n",
       "5        5   1953          0.326976\n",
       "6        6    106          0.336634"
      ]
     },
     "execution_count": 65,
     "metadata": {},
     "output_type": "execute_result"
    }
   ],
   "source": [
    "df1"
   ]
  },
  {
   "cell_type": "code",
   "execution_count": 66,
   "metadata": {},
   "outputs": [
    {
     "data": {
      "text/plain": [
       "cluster               3.000000\n",
       "count               869.142857\n",
       "Silhouette Score      0.405961\n",
       "dtype: float64"
      ]
     },
     "execution_count": 66,
     "metadata": {},
     "output_type": "execute_result"
    }
   ],
   "source": [
    "df1.mean()"
   ]
  },
  {
   "cell_type": "code",
   "execution_count": 67,
   "metadata": {},
   "outputs": [
    {
     "data": {
      "text/html": [
       "<div>\n",
       "<style scoped>\n",
       "    .dataframe tbody tr th:only-of-type {\n",
       "        vertical-align: middle;\n",
       "    }\n",
       "\n",
       "    .dataframe tbody tr th {\n",
       "        vertical-align: top;\n",
       "    }\n",
       "\n",
       "    .dataframe thead th {\n",
       "        text-align: right;\n",
       "    }\n",
       "</style>\n",
       "<table border=\"1\" class=\"dataframe\">\n",
       "  <thead>\n",
       "    <tr style=\"text-align: right;\">\n",
       "      <th></th>\n",
       "      <th>Unnamed: 0</th>\n",
       "      <th>Comment</th>\n",
       "    </tr>\n",
       "    <tr>\n",
       "      <th>cluster</th>\n",
       "      <th></th>\n",
       "      <th></th>\n",
       "    </tr>\n",
       "  </thead>\n",
       "  <tbody>\n",
       "    <tr>\n",
       "      <th>0</th>\n",
       "      <td>622</td>\n",
       "      <td>622</td>\n",
       "    </tr>\n",
       "    <tr>\n",
       "      <th>1</th>\n",
       "      <td>2462</td>\n",
       "      <td>2462</td>\n",
       "    </tr>\n",
       "    <tr>\n",
       "      <th>2</th>\n",
       "      <td>601</td>\n",
       "      <td>601</td>\n",
       "    </tr>\n",
       "    <tr>\n",
       "      <th>3</th>\n",
       "      <td>140</td>\n",
       "      <td>140</td>\n",
       "    </tr>\n",
       "    <tr>\n",
       "      <th>4</th>\n",
       "      <td>200</td>\n",
       "      <td>200</td>\n",
       "    </tr>\n",
       "    <tr>\n",
       "      <th>5</th>\n",
       "      <td>1953</td>\n",
       "      <td>1953</td>\n",
       "    </tr>\n",
       "    <tr>\n",
       "      <th>6</th>\n",
       "      <td>106</td>\n",
       "      <td>106</td>\n",
       "    </tr>\n",
       "  </tbody>\n",
       "</table>\n",
       "</div>"
      ],
      "text/plain": [
       "         Unnamed: 0  Comment\n",
       "cluster                     \n",
       "0               622      622\n",
       "1              2462     2462\n",
       "2               601      601\n",
       "3               140      140\n",
       "4               200      200\n",
       "5              1953     1953\n",
       "6               106      106"
      ]
     },
     "execution_count": 67,
     "metadata": {},
     "output_type": "execute_result"
    }
   ],
   "source": [
    "df.groupby('cluster').count()"
   ]
  },
  {
   "cell_type": "code",
   "execution_count": 68,
   "metadata": {
    "scrolled": true
   },
   "outputs": [
    {
     "name": "stderr",
     "output_type": "stream",
     "text": [
      "C:\\Users\\adita\\anaconda3\\lib\\site-packages\\seaborn\\_decorators.py:36: FutureWarning: Pass the following variables as keyword args: x, y. From version 0.12, the only valid positional argument will be `data`, and passing other arguments without an explicit keyword will result in an error or misinterpretation.\n",
      "  warnings.warn(\n",
      "C:\\Users\\adita\\anaconda3\\lib\\site-packages\\seaborn\\_decorators.py:36: FutureWarning: Pass the following variables as keyword args: x, y. From version 0.12, the only valid positional argument will be `data`, and passing other arguments without an explicit keyword will result in an error or misinterpretation.\n",
      "  warnings.warn(\n",
      "C:\\Users\\adita\\anaconda3\\lib\\site-packages\\seaborn\\_decorators.py:36: FutureWarning: Pass the following variables as keyword args: x, y. From version 0.12, the only valid positional argument will be `data`, and passing other arguments without an explicit keyword will result in an error or misinterpretation.\n",
      "  warnings.warn(\n",
      "C:\\Users\\adita\\anaconda3\\lib\\site-packages\\seaborn\\_decorators.py:36: FutureWarning: Pass the following variables as keyword args: x, y. From version 0.12, the only valid positional argument will be `data`, and passing other arguments without an explicit keyword will result in an error or misinterpretation.\n",
      "  warnings.warn(\n",
      "C:\\Users\\adita\\anaconda3\\lib\\site-packages\\seaborn\\_decorators.py:36: FutureWarning: Pass the following variables as keyword args: x, y. From version 0.12, the only valid positional argument will be `data`, and passing other arguments without an explicit keyword will result in an error or misinterpretation.\n",
      "  warnings.warn(\n",
      "C:\\Users\\adita\\anaconda3\\lib\\site-packages\\seaborn\\_decorators.py:36: FutureWarning: Pass the following variables as keyword args: x, y. From version 0.12, the only valid positional argument will be `data`, and passing other arguments without an explicit keyword will result in an error or misinterpretation.\n",
      "  warnings.warn(\n",
      "C:\\Users\\adita\\anaconda3\\lib\\site-packages\\seaborn\\_decorators.py:36: FutureWarning: Pass the following variables as keyword args: x, y. From version 0.12, the only valid positional argument will be `data`, and passing other arguments without an explicit keyword will result in an error or misinterpretation.\n",
      "  warnings.warn(\n"
     ]
    },
    {
     "data": {
      "image/png": "[encoded data removed]",
      "text/plain": [
       "<Figure size 1440x720 with 1 Axes>"
      ]
     },
     "metadata": {
      "needs_background": "light"
     },
     "output_type": "display_data"
    }
   ],
   "source": [
    "plt.figure(figsize=(20,10))\n",
    "sns.scatterplot(sent_vectors[word_cluster_pred == 0, 0], sent_vectors[word_cluster_pred == 0, 1], color = 'yellow', label = 'Cluster 1',s=50)\n",
    "sns.scatterplot(sent_vectors[word_cluster_pred == 1, 0], sent_vectors[word_cluster_pred == 1, 1], color = 'blue', label = 'Cluster 2',s=50)\n",
    "sns.scatterplot(sent_vectors[word_cluster_pred == 2, 0], sent_vectors[word_cluster_pred == 2, 1], color = 'green', label = 'Cluster 3',s=50)\n",
    "sns.scatterplot(sent_vectors[word_cluster_pred == 3, 0], sent_vectors[word_cluster_pred == 3, 1], color = 'grey', label = 'Cluster 4',s=50)\n",
    "sns.scatterplot(sent_vectors[word_cluster_pred == 4, 0], sent_vectors[word_cluster_pred == 4, 1], color = 'orange', label = 'Cluster 5',s=50)\n",
    "sns.scatterplot(sent_vectors[word_cluster_pred == 5, 0], sent_vectors[word_cluster_pred == 5, 1], color = 'brown', label = 'Cluster 6',s=50)\n",
    "sns.scatterplot(sent_vectors[word_cluster_pred == 6, 0], sent_vectors[word_cluster_pred == 6, 1], color = 'pink', label = 'Cluster 7',s=50)\n",
    "\n",
    "plt.grid(False)\n",
    "plt.title('Clusters')\n",
    "plt.xlabel('X')\n",
    "plt.ylabel('Y')\n",
    "plt.legend()\n",
    "plt.show()"
   ]
  },
  {
   "cell_type": "code",
   "execution_count": 69,
   "metadata": {
    "scrolled": false
   },
   "outputs": [
    {
     "data": {
      "text/plain": [
       "<matplotlib.lines.Line2D at 0x16d005e05e0>"
      ]
     },
     "execution_count": 69,
     "metadata": {},
     "output_type": "execute_result"
    },
    {
     "data": {
      "image/png": "[encoded data removed]",
      "text/plain": [
       "<Figure size 1440x720 with 1 Axes>"
      ]
     },
     "metadata": {
      "needs_background": "light"
     },
     "output_type": "display_data"
    }
   ],
   "source": [
    "colorlist =[\"yellow\",\"blue\",\"green\",\"grey\",\"orange\",\"brown\",\"pink\"]\n",
    "\n",
    "fig =plt.figure()\n",
    "fig.set_size_inches(20, 10)\n",
    "ax = fig.add_subplot(1,1,1)\n",
    "y_lower =1\n",
    "for i in range(n_clusters):\n",
    "    ith_cluster_silhouette_values = each_silhouette_score[sil == i]\n",
    "    ith_cluster_silhouette_values.sort()\n",
    "    size_cluster_i = ith_cluster_silhouette_values.shape[0]\n",
    "    y_upper = y_lower + size_cluster_i\n",
    "    \n",
    "    color = colorlist[i]\n",
    "    ax.fill_betweenx(np.arange(y_lower,y_upper),0,ith_cluster_silhouette_values,facecolor=color,edgecolor=color,alpha=0.3)\n",
    "    \n",
    "    ax.text(-0.05,y_lower + 0.5 * size_cluster_i,str(i))\n",
    "\n",
    "    y_lower = y_upper +10 \n",
    "    \n",
    "ax.set_title(\"Silhuoette plot\")\n",
    "ax.set_xlabel(\"silhouette score\")\n",
    "ax.set_ylabel(\"Cluster label\")\n",
    "    \n",
    "\n",
    "ax.axvline(x=silhouette_score,color=\"red\",linestyle=\"--\")"
   ]
  },
  {
   "cell_type": "code",
   "execution_count": 72,
   "metadata": {
    "scrolled": false
   },
   "outputs": [],
   "source": [
    "sample_silhouette_values = metrics.silhouette_samples(sent_vectors,sil,metric='euclidean')\n",
    "num_clusters = 4\n",
    "means_lst = []\n",
    "for label in range(num_clusters):\n",
    "    means_lst.append(sample_silhouette_values[word_cluster_pred_2 == label].mean())"
   ]
  },
  {
   "cell_type": "code",
   "execution_count": 73,
   "metadata": {
    "scrolled": false
   },
   "outputs": [
    {
     "data": {
      "text/plain": [
       "[0.6321938188506442,\n",
       " 0.24377542076186592,\n",
       " 0.47658070909933004,\n",
       " 0.45341924033953196]"
      ]
     },
     "execution_count": 73,
     "metadata": {},
     "output_type": "execute_result"
    }
   ],
   "source": [
    "means_lst"
   ]
  },
  {
   "cell_type": "code",
   "execution_count": null,
   "metadata": {},
   "outputs": [],
   "source": []
  },
  {
   "cell_type": "code",
   "execution_count": null,
   "metadata": {},
   "outputs": [],
   "source": []
  }
 ],
 "metadata": {
  "kernelspec": {
   "display_name": "Python 3 (ipykernel)",
   "language": "python",
   "name": "python3"
  },
  "language_info": {
   "codemirror_mode": {
    "name": "ipython",
    "version": 3
   },
   "file_extension": ".py",
   "mimetype": "text/x-python",
   "name": "python",
   "nbconvert_exporter": "python",
   "pygments_lexer": "ipython3",
   "version": "3.9.12"
  }
 },
 "nbformat": 4,
 "nbformat_minor": 4
}
