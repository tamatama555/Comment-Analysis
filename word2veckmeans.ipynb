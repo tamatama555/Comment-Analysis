{
 "cells": [
  {
   "cell_type": "code",
   "execution_count": 75,
   "metadata": {},
   "outputs": [],
   "source": [
    "import pandas as pd\n",
    "import numpy as np\n",
    "import nltk\n",
    "import gensim\n",
    "import re\n",
    "import sklearn\n",
    "import multiprocessing\n",
    "import matplotlib.pyplot as plt\n",
    "import seaborn as sns\n",
    "from gensim import models\n",
    "from gensim.models import Word2Vec, KeyedVectors\n",
    "from nltk.corpus import stopwords\n",
    "from sklearn import metrics\n",
    "from sklearn.metrics import silhouette_samples, silhouette_score\n",
    "from sklearn.cluster import KMeans\n",
    "from sklearn.metrics import confusion_matrix, classification_report, precision_recall_fscore_support, silhouette_score"
   ]
  },
  {
   "cell_type": "code",
   "execution_count": 76,
   "metadata": {},
   "outputs": [],
   "source": [
    "df = pd.read_csv('clean.csv')"
   ]
  },
  {
   "cell_type": "code",
   "execution_count": 77,
   "metadata": {},
   "outputs": [],
   "source": [
    "i=0\n",
    "list_of_sent=[]\n",
    "for sent in df['Comment'].values.astype(str):\n",
    "    list_of_sent.append(sent.split())"
   ]
  },
  {
   "cell_type": "code",
   "execution_count": 78,
   "metadata": {},
   "outputs": [],
   "source": [
    "import re\n",
    "def cleanhtml(sentence): \n",
    "    cleanr = re.compile('<.*?>')\n",
    "    cleantext = re.sub(cleanr, ' ', sentence)\n",
    "    return cleantext\n",
    "def cleanpunc(sentence): \n",
    "    cleaned = re.sub(r'[?|!|\\'|\"|#]',r'',sentence)\n",
    "    cleaned = re.sub(r'[.|,|)|(|\\|/]',r' ',cleaned)\n",
    "    return  cleaned"
   ]
  },
  {
   "cell_type": "code",
   "execution_count": 79,
   "metadata": {},
   "outputs": [],
   "source": [
    "i=0\n",
    "list_of_sent_train=[]\n",
    "for sent in df['Comment'].values.astype(str):\n",
    "    filtered_sentence=[]\n",
    "    sent=cleanhtml(sent)\n",
    "    for w in sent.split():\n",
    "        for cleaned_words in cleanpunc(w).split():\n",
    "            if(cleaned_words.isalpha()):    \n",
    "                filtered_sentence.append(cleaned_words.lower())\n",
    "            else:\n",
    "                continue \n",
    "    list_of_sent_train.append(filtered_sentence)"
   ]
  },
  {
   "cell_type": "code",
   "execution_count": 80,
   "metadata": {},
   "outputs": [],
   "source": [
    "w2v_model=gensim.models.Word2Vec(list_of_sent_train,vector_size=100, epochs = 5, workers=4)"
   ]
  },
  {
   "cell_type": "code",
   "execution_count": 81,
   "metadata": {},
   "outputs": [
    {
     "name": "stderr",
     "output_type": "stream",
     "text": [
      "C:\\Users\\adita\\AppData\\Local\\Temp\\ipykernel_8704\\118135359.py:12: RuntimeWarning: invalid value encountered in true_divide\n",
      "  sent_vec /= cnt_words\n"
     ]
    },
    {
     "data": {
      "text/plain": [
       "(6084, 100)"
      ]
     },
     "execution_count": 81,
     "metadata": {},
     "output_type": "execute_result"
    }
   ],
   "source": [
    "sent_vectors = []; \n",
    "for sent in list_of_sent_train:\n",
    "    sent_vec = np.zeros(100)\n",
    "    cnt_words =0;\n",
    "    for word in sent:\n",
    "        try:\n",
    "            vec = w2v_model.wv[word]\n",
    "            sent_vec += vec\n",
    "            cnt_words += 1\n",
    "        except:\n",
    "            pass\n",
    "    sent_vec /= cnt_words\n",
    "    sent_vectors.append(sent_vec)\n",
    "sent_vectors = np.array(sent_vectors)\n",
    "sent_vectors = np.nan_to_num(sent_vectors)\n",
    "sent_vectors.shape"
   ]
  },
  {
   "cell_type": "code",
   "execution_count": 82,
   "metadata": {},
   "outputs": [
    {
     "data": {
      "text/plain": [
       "[1, 2, 3, 4, 5, 6, 7, 8, 9, 10]"
      ]
     },
     "execution_count": 82,
     "metadata": {},
     "output_type": "execute_result"
    }
   ],
   "source": [
    "num_clus = [x for x in range(1,11)]\n",
    "num_clus"
   ]
  },
  {
   "cell_type": "code",
   "execution_count": 83,
   "metadata": {
    "scrolled": false
   },
   "outputs": [
    {
     "data": {
      "image/png": "[encoded data removed]",
      "text/plain": [
       "<Figure size 432x288 with 1 Axes>"
      ]
     },
     "metadata": {
      "needs_background": "light"
     },
     "output_type": "display_data"
    }
   ],
   "source": [
    "squared_errors = []\n",
    "for cluster in num_clus:\n",
    "    kmeans = KMeans(n_clusters = cluster).fit(sent_vectors)\n",
    "    squared_errors.append(kmeans.inertia_) \n",
    "    \n",
    "optimal_clusters = np.argmin(squared_errors) + 2 \n",
    "plt.plot(num_clus, squared_errors)\n",
    "plt.title(\"Elbow Curve to find the no. of clusters.\")\n",
    "plt.xlabel(\"Number of clusters.\")\n",
    "plt.ylabel(\"Squared Loss.\")\n",
    "xy = (optimal_clusters, min(squared_errors))\n",
    "plt.annotate('(%s, %s)' % xy, xy = xy, textcoords='data')\n",
    "plt.show()\n"
   ]
  },
  {
   "cell_type": "code",
   "execution_count": 84,
   "metadata": {},
   "outputs": [],
   "source": [
    "numpy_array = np.array(squared_errors)"
   ]
  },
  {
   "cell_type": "code",
   "execution_count": 85,
   "metadata": {},
   "outputs": [],
   "source": [
    "temp = pd.DataFrame(numpy_array,columns = ['SSE'])"
   ]
  },
  {
   "cell_type": "code",
   "execution_count": 86,
   "metadata": {},
   "outputs": [],
   "source": [
    "temp['Diff'] = temp.diff()"
   ]
  },
  {
   "cell_type": "code",
   "execution_count": 87,
   "metadata": {
    "scrolled": false
   },
   "outputs": [
    {
     "data": {
      "text/html": [
       "<div>\n",
       "<style scoped>\n",
       "    .dataframe tbody tr th:only-of-type {\n",
       "        vertical-align: middle;\n",
       "    }\n",
       "\n",
       "    .dataframe tbody tr th {\n",
       "        vertical-align: top;\n",
       "    }\n",
       "\n",
       "    .dataframe thead th {\n",
       "        text-align: right;\n",
       "    }\n",
       "</style>\n",
       "<table border=\"1\" class=\"dataframe\">\n",
       "  <thead>\n",
       "    <tr style=\"text-align: right;\">\n",
       "      <th></th>\n",
       "      <th>SSE</th>\n",
       "      <th>Diff</th>\n",
       "    </tr>\n",
       "  </thead>\n",
       "  <tbody>\n",
       "    <tr>\n",
       "      <th>0</th>\n",
       "      <td>12385.027785</td>\n",
       "      <td>NaN</td>\n",
       "    </tr>\n",
       "    <tr>\n",
       "      <th>1</th>\n",
       "      <td>8981.285746</td>\n",
       "      <td>-3403.742039</td>\n",
       "    </tr>\n",
       "    <tr>\n",
       "      <th>2</th>\n",
       "      <td>6648.424757</td>\n",
       "      <td>-2332.860989</td>\n",
       "    </tr>\n",
       "    <tr>\n",
       "      <th>3</th>\n",
       "      <td>4921.592346</td>\n",
       "      <td>-1726.832411</td>\n",
       "    </tr>\n",
       "    <tr>\n",
       "      <th>4</th>\n",
       "      <td>4211.378531</td>\n",
       "      <td>-710.213815</td>\n",
       "    </tr>\n",
       "    <tr>\n",
       "      <th>5</th>\n",
       "      <td>3521.165228</td>\n",
       "      <td>-690.213303</td>\n",
       "    </tr>\n",
       "    <tr>\n",
       "      <th>6</th>\n",
       "      <td>2858.953956</td>\n",
       "      <td>-662.211272</td>\n",
       "    </tr>\n",
       "    <tr>\n",
       "      <th>7</th>\n",
       "      <td>2511.340402</td>\n",
       "      <td>-347.613554</td>\n",
       "    </tr>\n",
       "    <tr>\n",
       "      <th>8</th>\n",
       "      <td>2205.164125</td>\n",
       "      <td>-306.176277</td>\n",
       "    </tr>\n",
       "    <tr>\n",
       "      <th>9</th>\n",
       "      <td>1989.717940</td>\n",
       "      <td>-215.446185</td>\n",
       "    </tr>\n",
       "  </tbody>\n",
       "</table>\n",
       "</div>"
      ],
      "text/plain": [
       "            SSE         Diff\n",
       "0  12385.027785          NaN\n",
       "1   8981.285746 -3403.742039\n",
       "2   6648.424757 -2332.860989\n",
       "3   4921.592346 -1726.832411\n",
       "4   4211.378531  -710.213815\n",
       "5   3521.165228  -690.213303\n",
       "6   2858.953956  -662.211272\n",
       "7   2511.340402  -347.613554\n",
       "8   2205.164125  -306.176277\n",
       "9   1989.717940  -215.446185"
      ]
     },
     "execution_count": 87,
     "metadata": {},
     "output_type": "execute_result"
    }
   ],
   "source": [
    "temp"
   ]
  },
  {
   "cell_type": "code",
   "execution_count": 88,
   "metadata": {},
   "outputs": [],
   "source": [
    "n_clusters=4"
   ]
  },
  {
   "cell_type": "code",
   "execution_count": 90,
   "metadata": {},
   "outputs": [
    {
     "data": {
      "text/plain": [
       "KMeans(n_clusters=4)"
      ]
     },
     "execution_count": 90,
     "metadata": {},
     "output_type": "execute_result"
    }
   ],
   "source": [
    "model2 = KMeans(n_clusters = 4\n",
    "                ,init = 'k-means++')\n",
    "model2.fit(sent_vectors)"
   ]
  },
  {
   "cell_type": "code",
   "execution_count": 91,
   "metadata": {},
   "outputs": [],
   "source": [
    "word_cluster_pred=model2.predict(sent_vectors)\n",
    "word_cluster_pred_2=model2.labels_\n",
    "word_cluster_center=model2.cluster_centers_"
   ]
  },
  {
   "cell_type": "code",
   "execution_count": 92,
   "metadata": {
    "scrolled": true
   },
   "outputs": [
    {
     "data": {
      "text/plain": [
       "array([[-1.13556849e-02,  5.32464947e-02,  6.22789748e-02,\n",
       "        -2.77148642e-02,  2.46263577e-02, -1.32521720e-01,\n",
       "         3.22203908e-02,  1.64897903e-01, -8.76097917e-02,\n",
       "        -8.98693325e-02, -1.34919032e-02, -1.24126541e-01,\n",
       "        -3.05423848e-02,  5.59936164e-02,  1.88636287e-02,\n",
       "        -2.96626730e-02,  4.42896698e-02, -7.00481069e-02,\n",
       "        -2.93614768e-02, -1.54221728e-01,  5.87099404e-02,\n",
       "         3.96617151e-03, -6.11358360e-03, -1.04918285e-01,\n",
       "        -1.55534320e-02,  2.04071185e-02, -7.58249617e-02,\n",
       "        -7.89438974e-02, -4.98720092e-02,  2.58332180e-02,\n",
       "         9.44082586e-02,  1.43200713e-02,  1.53400156e-02,\n",
       "        -7.42957416e-02,  1.50702294e-02,  8.90874553e-02,\n",
       "        -2.76708063e-02, -4.25456902e-02, -2.63055971e-02,\n",
       "        -1.39662469e-01,  5.08850606e-02, -9.33683316e-02,\n",
       "        -4.42247448e-02,  3.73810356e-02,  4.44080168e-02,\n",
       "         8.54401227e-03, -4.42322327e-02,  6.10925061e-03,\n",
       "         5.50477349e-02,  7.63907538e-02,  1.44158300e-02,\n",
       "        -7.33999383e-02,  4.58350389e-04,  2.06070211e-02,\n",
       "        -3.25714780e-02,  6.64730802e-02,  1.62500413e-02,\n",
       "        -2.80513597e-02, -7.50434054e-02,  4.01664347e-02,\n",
       "        -1.73761758e-02,  1.69491733e-02, -4.84018676e-02,\n",
       "        -4.18419709e-03, -7.34493165e-02,  6.66635484e-02,\n",
       "         3.82116782e-02,  5.88030468e-02, -1.08836227e-01,\n",
       "         8.30322865e-02, -7.41842041e-02,  2.05402265e-02,\n",
       "         7.91100185e-02, -1.79390837e-02,  5.66950075e-02,\n",
       "         4.81747993e-02,  1.89247933e-02, -6.86062251e-02,\n",
       "        -6.61510110e-02,  6.42787623e-02, -3.79549612e-02,\n",
       "         2.07962991e-02, -8.70203055e-02,  9.73840044e-02,\n",
       "        -1.20324768e-02, -1.60255386e-02,  2.17306447e-02,\n",
       "         7.65309755e-02,  4.71623757e-02,  4.39560528e-02,\n",
       "         7.34136455e-02,  6.31490453e-02, -2.56772302e-02,\n",
       "         1.74061031e-02,  1.04875050e-01,  6.20206049e-02,\n",
       "         6.06266108e-02, -1.05555933e-01,  2.69088051e-02,\n",
       "        -2.75939414e-02],\n",
       "       [-1.40542607e-02,  1.35168377e-01,  2.69378392e-01,\n",
       "        -8.82444788e-02,  5.76798412e-02, -5.49029291e-01,\n",
       "         1.04996420e-01,  6.93416283e-01, -3.63117920e-01,\n",
       "        -4.50120132e-01, -4.16673235e-02, -4.46014847e-01,\n",
       "        -5.98986756e-02,  2.35993144e-01,  6.54143591e-02,\n",
       "        -3.91943300e-02,  2.01981256e-01, -2.28836717e-01,\n",
       "        -1.56060687e-01, -6.16277343e-01,  1.99870174e-01,\n",
       "        -2.28394739e-02, -3.60974717e-02, -4.31382861e-01,\n",
       "        -9.00776842e-02,  8.89136297e-02, -2.91603882e-01,\n",
       "        -2.28756180e-01, -2.42246044e-01,  1.03784476e-01,\n",
       "         3.51642019e-01,  1.84012338e-02,  1.45084973e-02,\n",
       "        -2.71796270e-01,  4.03971407e-02,  3.95719211e-01,\n",
       "        -1.27860532e-01, -1.75793588e-01, -2.87452838e-02,\n",
       "        -4.98989110e-01,  3.23680960e-01, -3.78224575e-01,\n",
       "        -2.90991401e-01,  1.63941017e-01,  2.15989538e-01,\n",
       "         6.66215139e-02, -1.76836320e-01, -2.17228187e-02,\n",
       "         2.41887440e-01,  3.15219691e-01,  8.87037234e-02,\n",
       "        -3.20999402e-01,  4.05118123e-04,  6.89404991e-02,\n",
       "        -1.43675982e-01,  2.01346891e-01, -3.04582639e-02,\n",
       "        -2.46486665e-01, -2.54394310e-01,  1.10948682e-01,\n",
       "        -1.75647858e-01,  4.36650227e-02, -1.78395399e-01,\n",
       "         7.01401640e-03, -2.45968054e-01,  2.63593163e-01,\n",
       "         1.89600190e-01,  2.13356033e-01, -4.29558744e-01,\n",
       "         3.76836077e-01, -2.75903065e-01,  4.25160973e-02,\n",
       "         3.15131591e-01, -8.35008840e-02,  2.15208368e-01,\n",
       "         2.71741548e-01,  9.66469561e-02, -2.76654627e-01,\n",
       "        -2.43622591e-01,  2.87789898e-01, -1.82233475e-01,\n",
       "         1.01084023e-01, -3.90476884e-01,  4.47433822e-01,\n",
       "        -9.52241774e-02, -9.01348085e-03,  8.35689751e-02,\n",
       "         2.01940437e-01,  1.15395610e-01,  1.95734399e-01,\n",
       "         2.99193575e-01,  2.73390183e-01, -3.59518981e-02,\n",
       "         4.59527625e-02,  3.97574061e-01,  2.36602960e-01,\n",
       "         1.88199461e-01, -3.68423994e-01,  8.51258720e-02,\n",
       "        -7.10594459e-02],\n",
       "       [-1.78543230e-01,  4.94801461e-01,  1.08994754e-01,\n",
       "        -2.76102653e-01,  1.40453176e-01, -5.54799888e-01,\n",
       "         1.99828740e-01,  5.80288037e-01, -4.55921123e-01,\n",
       "        -2.79122826e-02, -1.36984865e-01, -6.03502230e-01,\n",
       "        -4.10487834e-01,  2.44288222e-01,  1.82423653e-01,\n",
       "        -3.60924556e-01,  1.97960947e-01, -3.31772294e-01,\n",
       "        -1.39921396e-01, -7.79850169e-01,  4.15170907e-01,\n",
       "         1.90913640e-01,  3.30448007e-02, -4.42614894e-01,\n",
       "        -1.56796640e-01,  1.18695891e-01, -4.28240977e-01,\n",
       "        -6.77359415e-01, -9.72748097e-04,  1.61307706e-01,\n",
       "         7.12277869e-01,  2.66256302e-01,  3.20928914e-01,\n",
       "        -5.64522124e-01,  1.44365058e-01,  2.15020610e-01,\n",
       "        -4.67746770e-02, -9.15417171e-02, -3.44938952e-01,\n",
       "        -7.46440014e-01, -6.96424396e-02, -4.36627004e-01,\n",
       "         2.06952201e-01,  1.86600522e-01,  1.94875667e-01,\n",
       "        -4.93999281e-02, -1.88675754e-01,  1.48674320e-01,\n",
       "         2.72315351e-01,  1.91444112e-01,  4.80474108e-02,\n",
       "        -2.59696076e-01, -1.41074621e-03,  9.45540967e-02,\n",
       "        -1.15428948e-01,  4.68154082e-01,  3.50272923e-01,\n",
       "         3.56167807e-01, -4.46552051e-01,  3.51146924e-01,\n",
       "         3.24780649e-01,  1.77926469e-01, -3.01072038e-01,\n",
       "         6.64976255e-02, -4.03375951e-01,  3.42497260e-01,\n",
       "         1.21210790e-01,  3.30803452e-01, -5.84461183e-01,\n",
       "         2.44264081e-01, -5.64368883e-01,  1.38406004e-01,\n",
       "         3.32545388e-01, -9.44794643e-02,  3.70374731e-01,\n",
       "         8.38717707e-03,  9.43349535e-02, -2.55532690e-01,\n",
       "        -2.23578861e-01,  5.53851532e-02, -1.16639326e-01,\n",
       "        -4.93614119e-02, -3.82192465e-01,  4.27272944e-01,\n",
       "         2.06201533e-01, -2.34117391e-01,  2.22066699e-01,\n",
       "         5.92661045e-01,  4.55100460e-01,  2.50480894e-01,\n",
       "         3.40784689e-01,  2.88818150e-01, -2.90442866e-01,\n",
       "         9.27043238e-02,  4.74943382e-01,  2.56779996e-01,\n",
       "         4.83410817e-01, -6.52049382e-01,  3.08019738e-01,\n",
       "        -2.68748368e-01],\n",
       "       [-8.98846689e-02, -6.28349046e-02,  6.20542585e-01,\n",
       "         7.02397546e-02,  6.37094310e-02, -7.82632762e-01,\n",
       "         8.52512165e-02,  1.14708792e+00, -1.81488022e-01,\n",
       "        -1.04198808e+00, -2.18162752e-01, -6.26312999e-01,\n",
       "        -5.59994288e-03,  8.09163952e-02, -1.58525162e-01,\n",
       "         6.39453829e-02,  1.76312658e-01, -5.44914313e-01,\n",
       "        -2.58334833e-02, -7.24859613e-01,  9.71714620e-02,\n",
       "        -3.49840120e-02, -6.05346301e-02, -4.11206918e-01,\n",
       "         3.74517039e-01,  4.56438053e-03, -3.54054201e-01,\n",
       "        -2.18789594e-01, -6.45400848e-01,  4.96656300e-02,\n",
       "         4.99101093e-02, -1.94261418e-01, -2.02725781e-02,\n",
       "        -4.89289761e-02,  3.31286617e-02,  7.13801889e-01,\n",
       "        -3.35345239e-01, -3.72591082e-01,  1.29413210e-01,\n",
       "        -6.85978196e-01,  4.39798260e-01, -5.31475657e-01,\n",
       "        -7.04986952e-01,  1.32643758e-02,  1.58403355e-01,\n",
       "        -1.38932562e-01, -1.52536043e-01, -1.39792652e-01,\n",
       "         2.90780792e-01,  6.42456093e-01,  2.08046546e-01,\n",
       "        -3.84308774e-01, -3.86891558e-02,  9.82947010e-02,\n",
       "        -2.47911668e-01,  3.31518516e-01, -1.28528790e-01,\n",
       "        -7.14194172e-01, -2.63448452e-01,  1.68780332e-01,\n",
       "        -4.53037372e-01,  5.72934640e-02,  1.13856316e-02,\n",
       "        -2.71069181e-01, -4.14882150e-01,  2.39791256e-01,\n",
       "         1.76167331e-01,  3.47010781e-01, -3.38481992e-01,\n",
       "         5.33253657e-01,  1.48193618e-01,  1.94767706e-01,\n",
       "         4.59823151e-01,  3.82703469e-02,  3.07042447e-01,\n",
       "         5.83617036e-01,  1.19869947e-01, -4.35169909e-01,\n",
       "        -6.04593280e-01,  7.03574012e-01, -2.48644838e-01,\n",
       "         2.55443189e-01, -2.58494887e-01,  5.51487772e-01,\n",
       "        -6.24225595e-01, -8.79230170e-02, -3.39674100e-02,\n",
       "         3.01603997e-01,  1.91689969e-02,  4.30081876e-02,\n",
       "         4.39937924e-01,  3.18435735e-01,  1.76622585e-01,\n",
       "         2.23132347e-01,  8.83916893e-01,  3.84396978e-01,\n",
       "         1.33717115e-01, -3.04278992e-01, -2.18886315e-01,\n",
       "        -4.98795117e-02]])"
      ]
     },
     "execution_count": 92,
     "metadata": {},
     "output_type": "execute_result"
    }
   ],
   "source": [
    "word_cluster_center"
   ]
  },
  {
   "cell_type": "code",
   "execution_count": 93,
   "metadata": {
    "scrolled": true
   },
   "outputs": [
    {
     "data": {
      "text/html": [
       "<div>\n",
       "<style scoped>\n",
       "    .dataframe tbody tr th:only-of-type {\n",
       "        vertical-align: middle;\n",
       "    }\n",
       "\n",
       "    .dataframe tbody tr th {\n",
       "        vertical-align: top;\n",
       "    }\n",
       "\n",
       "    .dataframe thead th {\n",
       "        text-align: right;\n",
       "    }\n",
       "</style>\n",
       "<table border=\"1\" class=\"dataframe\">\n",
       "  <thead>\n",
       "    <tr style=\"text-align: right;\">\n",
       "      <th></th>\n",
       "      <th>Unnamed: 0</th>\n",
       "      <th>Comment</th>\n",
       "      <th>cluster</th>\n",
       "    </tr>\n",
       "  </thead>\n",
       "  <tbody>\n",
       "    <tr>\n",
       "      <th>0</th>\n",
       "      <td>0</td>\n",
       "      <td>gegara liat photo raisa di timesquare ny jadi ...</td>\n",
       "      <td>1</td>\n",
       "    </tr>\n",
       "    <tr>\n",
       "      <th>1</th>\n",
       "      <td>1</td>\n",
       "      <td>ini clip      video clipnya berasa liat drama ...</td>\n",
       "      <td>1</td>\n",
       "    </tr>\n",
       "    <tr>\n",
       "      <th>2</th>\n",
       "      <td>2</td>\n",
       "      <td>semoga gua dapat kesempatan kedua sama sahabat...</td>\n",
       "      <td>1</td>\n",
       "    </tr>\n",
       "    <tr>\n",
       "      <th>3</th>\n",
       "      <td>3</td>\n",
       "      <td>iri banget ngeliat orang  di komen pada happy ...</td>\n",
       "      <td>1</td>\n",
       "    </tr>\n",
       "    <tr>\n",
       "      <th>4</th>\n",
       "      <td>4</td>\n",
       "      <td>backsound ps nih</td>\n",
       "      <td>1</td>\n",
       "    </tr>\n",
       "    <tr>\n",
       "      <th>...</th>\n",
       "      <td>...</td>\n",
       "      <td>...</td>\n",
       "      <td>...</td>\n",
       "    </tr>\n",
       "    <tr>\n",
       "      <th>6079</th>\n",
       "      <td>6474</td>\n",
       "      <td>selamat ulang tahun kak  aa sukses selaluuuu</td>\n",
       "      <td>1</td>\n",
       "    </tr>\n",
       "    <tr>\n",
       "      <th>6080</th>\n",
       "      <td>6476</td>\n",
       "      <td>first</td>\n",
       "      <td>0</td>\n",
       "    </tr>\n",
       "    <tr>\n",
       "      <th>6081</th>\n",
       "      <td>6477</td>\n",
       "      <td>hmm</td>\n",
       "      <td>0</td>\n",
       "    </tr>\n",
       "    <tr>\n",
       "      <th>6082</th>\n",
       "      <td>6478</td>\n",
       "      <td>kali kedua mantap</td>\n",
       "      <td>3</td>\n",
       "    </tr>\n",
       "    <tr>\n",
       "      <th>6083</th>\n",
       "      <td>6479</td>\n",
       "      <td>selamat ulang tahun    sukses terus untuk kamu...</td>\n",
       "      <td>1</td>\n",
       "    </tr>\n",
       "  </tbody>\n",
       "</table>\n",
       "<p>6084 rows × 3 columns</p>\n",
       "</div>"
      ],
      "text/plain": [
       "      Unnamed: 0                                            Comment  cluster\n",
       "0              0  gegara liat photo raisa di timesquare ny jadi ...        1\n",
       "1              1  ini clip      video clipnya berasa liat drama ...        1\n",
       "2              2  semoga gua dapat kesempatan kedua sama sahabat...        1\n",
       "3              3  iri banget ngeliat orang  di komen pada happy ...        1\n",
       "4              4                                   backsound ps nih        1\n",
       "...          ...                                                ...      ...\n",
       "6079        6474       selamat ulang tahun kak  aa sukses selaluuuu        1\n",
       "6080        6476                                              first        0\n",
       "6081        6477                                                hmm        0\n",
       "6082        6478                                  kali kedua mantap        3\n",
       "6083        6479  selamat ulang tahun    sukses terus untuk kamu...        1\n",
       "\n",
       "[6084 rows x 3 columns]"
      ]
     },
     "execution_count": 93,
     "metadata": {},
     "output_type": "execute_result"
    }
   ],
   "source": [
    "sil = model2.labels_\n",
    "df['cluster'] = model2.labels_\n",
    "df"
   ]
  },
  {
   "cell_type": "code",
   "execution_count": 94,
   "metadata": {},
   "outputs": [],
   "source": [
    "each_silhouette_score = silhouette_samples(sent_vectors,sil,metric=\"euclidean\")"
   ]
  },
  {
   "cell_type": "code",
   "execution_count": 95,
   "metadata": {},
   "outputs": [],
   "source": [
    "silhouette_score = sklearn.metrics.silhouette_score(sent_vectors, sil, metric='euclidean')"
   ]
  },
  {
   "cell_type": "code",
   "execution_count": 96,
   "metadata": {},
   "outputs": [],
   "source": [
    "sample_silhouette_values = metrics.silhouette_samples(sent_vectors,sil,metric='euclidean')\n",
    "num_clusters = 4\n",
    "means_lst = []\n",
    "for label in range(num_clusters):\n",
    "    means_lst.append(sample_silhouette_values[word_cluster_pred_2 == label].mean())"
   ]
  },
  {
   "cell_type": "code",
   "execution_count": 97,
   "metadata": {
    "scrolled": true
   },
   "outputs": [
    {
     "data": {
      "text/plain": [
       "0.47196198918733334"
      ]
     },
     "execution_count": 97,
     "metadata": {},
     "output_type": "execute_result"
    }
   ],
   "source": [
    "silhouette_score"
   ]
  },
  {
   "cell_type": "code",
   "execution_count": 98,
   "metadata": {
    "scrolled": true
   },
   "outputs": [
    {
     "data": {
      "text/plain": [
       "[0.6058758931275712,\n",
       " 0.5166126689904127,\n",
       " 0.32360812882719886,\n",
       " 0.1253191379882565]"
      ]
     },
     "execution_count": 98,
     "metadata": {},
     "output_type": "execute_result"
    }
   ],
   "source": [
    "means_lst"
   ]
  },
  {
   "cell_type": "code",
   "execution_count": 99,
   "metadata": {},
   "outputs": [],
   "source": [
    "df1 = pd.DataFrame(df, columns = ['Cluster', 'Count','Silhouette Score'])"
   ]
  },
  {
   "cell_type": "code",
   "execution_count": 100,
   "metadata": {},
   "outputs": [
    {
     "data": {
      "text/html": [
       "<div>\n",
       "<style scoped>\n",
       "    .dataframe tbody tr th:only-of-type {\n",
       "        vertical-align: middle;\n",
       "    }\n",
       "\n",
       "    .dataframe tbody tr th {\n",
       "        vertical-align: top;\n",
       "    }\n",
       "\n",
       "    .dataframe thead th {\n",
       "        text-align: right;\n",
       "    }\n",
       "</style>\n",
       "<table border=\"1\" class=\"dataframe\">\n",
       "  <thead>\n",
       "    <tr style=\"text-align: right;\">\n",
       "      <th></th>\n",
       "      <th>Unnamed: 0</th>\n",
       "      <th>Comment</th>\n",
       "    </tr>\n",
       "    <tr>\n",
       "      <th>cluster</th>\n",
       "      <th></th>\n",
       "      <th></th>\n",
       "    </tr>\n",
       "  </thead>\n",
       "  <tbody>\n",
       "    <tr>\n",
       "      <th>0</th>\n",
       "      <td>678</td>\n",
       "      <td>678</td>\n",
       "    </tr>\n",
       "    <tr>\n",
       "      <th>1</th>\n",
       "      <td>4138</td>\n",
       "      <td>4138</td>\n",
       "    </tr>\n",
       "    <tr>\n",
       "      <th>2</th>\n",
       "      <td>827</td>\n",
       "      <td>827</td>\n",
       "    </tr>\n",
       "    <tr>\n",
       "      <th>3</th>\n",
       "      <td>441</td>\n",
       "      <td>441</td>\n",
       "    </tr>\n",
       "  </tbody>\n",
       "</table>\n",
       "</div>"
      ],
      "text/plain": [
       "         Unnamed: 0  Comment\n",
       "cluster                     \n",
       "0               678      678\n",
       "1              4138     4138\n",
       "2               827      827\n",
       "3               441      441"
      ]
     },
     "execution_count": 100,
     "metadata": {},
     "output_type": "execute_result"
    }
   ],
   "source": [
    "df.groupby('cluster').count()"
   ]
  },
  {
   "cell_type": "code",
   "execution_count": 101,
   "metadata": {},
   "outputs": [],
   "source": [
    "clust_groupby = df.groupby('cluster')"
   ]
  },
  {
   "cell_type": "code",
   "execution_count": 102,
   "metadata": {},
   "outputs": [
    {
     "data": {
      "text/html": [
       "<div>\n",
       "<style scoped>\n",
       "    .dataframe tbody tr th:only-of-type {\n",
       "        vertical-align: middle;\n",
       "    }\n",
       "\n",
       "    .dataframe tbody tr th {\n",
       "        vertical-align: top;\n",
       "    }\n",
       "\n",
       "    .dataframe thead th {\n",
       "        text-align: right;\n",
       "    }\n",
       "</style>\n",
       "<table border=\"1\" class=\"dataframe\">\n",
       "  <thead>\n",
       "    <tr style=\"text-align: right;\">\n",
       "      <th></th>\n",
       "      <th>cluster</th>\n",
       "      <th>count</th>\n",
       "    </tr>\n",
       "  </thead>\n",
       "  <tbody>\n",
       "    <tr>\n",
       "      <th>0</th>\n",
       "      <td>0</td>\n",
       "      <td>678</td>\n",
       "    </tr>\n",
       "    <tr>\n",
       "      <th>1</th>\n",
       "      <td>1</td>\n",
       "      <td>4138</td>\n",
       "    </tr>\n",
       "    <tr>\n",
       "      <th>2</th>\n",
       "      <td>2</td>\n",
       "      <td>827</td>\n",
       "    </tr>\n",
       "    <tr>\n",
       "      <th>3</th>\n",
       "      <td>3</td>\n",
       "      <td>441</td>\n",
       "    </tr>\n",
       "  </tbody>\n",
       "</table>\n",
       "</div>"
      ],
      "text/plain": [
       "   cluster  count\n",
       "0        0    678\n",
       "1        1   4138\n",
       "2        2    827\n",
       "3        3    441"
      ]
     },
     "execution_count": 102,
     "metadata": {},
     "output_type": "execute_result"
    }
   ],
   "source": [
    "df1 = pd.DataFrame({'count':clust_groupby.size()}).reset_index()\n",
    "df1"
   ]
  },
  {
   "cell_type": "code",
   "execution_count": 103,
   "metadata": {},
   "outputs": [],
   "source": [
    "df1['Silhouette Score'] = means_lst"
   ]
  },
  {
   "cell_type": "code",
   "execution_count": 104,
   "metadata": {},
   "outputs": [
    {
     "data": {
      "text/html": [
       "<div>\n",
       "<style scoped>\n",
       "    .dataframe tbody tr th:only-of-type {\n",
       "        vertical-align: middle;\n",
       "    }\n",
       "\n",
       "    .dataframe tbody tr th {\n",
       "        vertical-align: top;\n",
       "    }\n",
       "\n",
       "    .dataframe thead th {\n",
       "        text-align: right;\n",
       "    }\n",
       "</style>\n",
       "<table border=\"1\" class=\"dataframe\">\n",
       "  <thead>\n",
       "    <tr style=\"text-align: right;\">\n",
       "      <th></th>\n",
       "      <th>cluster</th>\n",
       "      <th>count</th>\n",
       "      <th>Silhouette Score</th>\n",
       "    </tr>\n",
       "  </thead>\n",
       "  <tbody>\n",
       "    <tr>\n",
       "      <th>0</th>\n",
       "      <td>0</td>\n",
       "      <td>678</td>\n",
       "      <td>0.605876</td>\n",
       "    </tr>\n",
       "    <tr>\n",
       "      <th>1</th>\n",
       "      <td>1</td>\n",
       "      <td>4138</td>\n",
       "      <td>0.516613</td>\n",
       "    </tr>\n",
       "    <tr>\n",
       "      <th>2</th>\n",
       "      <td>2</td>\n",
       "      <td>827</td>\n",
       "      <td>0.323608</td>\n",
       "    </tr>\n",
       "    <tr>\n",
       "      <th>3</th>\n",
       "      <td>3</td>\n",
       "      <td>441</td>\n",
       "      <td>0.125319</td>\n",
       "    </tr>\n",
       "  </tbody>\n",
       "</table>\n",
       "</div>"
      ],
      "text/plain": [
       "   cluster  count  Silhouette Score\n",
       "0        0    678          0.605876\n",
       "1        1   4138          0.516613\n",
       "2        2    827          0.323608\n",
       "3        3    441          0.125319"
      ]
     },
     "execution_count": 104,
     "metadata": {},
     "output_type": "execute_result"
    }
   ],
   "source": [
    "df1"
   ]
  },
  {
   "cell_type": "code",
   "execution_count": 105,
   "metadata": {},
   "outputs": [
    {
     "data": {
      "text/plain": [
       "cluster                1.500000\n",
       "count               1521.000000\n",
       "Silhouette Score       0.392854\n",
       "dtype: float64"
      ]
     },
     "execution_count": 105,
     "metadata": {},
     "output_type": "execute_result"
    }
   ],
   "source": [
    "df1.mean()"
   ]
  },
  {
   "cell_type": "code",
   "execution_count": 106,
   "metadata": {},
   "outputs": [
    {
     "data": {
      "text/html": [
       "<div>\n",
       "<style scoped>\n",
       "    .dataframe tbody tr th:only-of-type {\n",
       "        vertical-align: middle;\n",
       "    }\n",
       "\n",
       "    .dataframe tbody tr th {\n",
       "        vertical-align: top;\n",
       "    }\n",
       "\n",
       "    .dataframe thead th {\n",
       "        text-align: right;\n",
       "    }\n",
       "</style>\n",
       "<table border=\"1\" class=\"dataframe\">\n",
       "  <thead>\n",
       "    <tr style=\"text-align: right;\">\n",
       "      <th></th>\n",
       "      <th>Unnamed: 0</th>\n",
       "      <th>Comment</th>\n",
       "    </tr>\n",
       "    <tr>\n",
       "      <th>cluster</th>\n",
       "      <th></th>\n",
       "      <th></th>\n",
       "    </tr>\n",
       "  </thead>\n",
       "  <tbody>\n",
       "    <tr>\n",
       "      <th>0</th>\n",
       "      <td>678</td>\n",
       "      <td>678</td>\n",
       "    </tr>\n",
       "    <tr>\n",
       "      <th>1</th>\n",
       "      <td>4138</td>\n",
       "      <td>4138</td>\n",
       "    </tr>\n",
       "    <tr>\n",
       "      <th>2</th>\n",
       "      <td>827</td>\n",
       "      <td>827</td>\n",
       "    </tr>\n",
       "    <tr>\n",
       "      <th>3</th>\n",
       "      <td>441</td>\n",
       "      <td>441</td>\n",
       "    </tr>\n",
       "  </tbody>\n",
       "</table>\n",
       "</div>"
      ],
      "text/plain": [
       "         Unnamed: 0  Comment\n",
       "cluster                     \n",
       "0               678      678\n",
       "1              4138     4138\n",
       "2               827      827\n",
       "3               441      441"
      ]
     },
     "execution_count": 106,
     "metadata": {},
     "output_type": "execute_result"
    }
   ],
   "source": [
    "df.groupby('cluster').count()"
   ]
  },
  {
   "cell_type": "code",
   "execution_count": 107,
   "metadata": {
    "scrolled": true
   },
   "outputs": [
    {
     "name": "stderr",
     "output_type": "stream",
     "text": [
      "C:\\Users\\adita\\anaconda3\\lib\\site-packages\\seaborn\\_decorators.py:36: FutureWarning: Pass the following variables as keyword args: x, y. From version 0.12, the only valid positional argument will be `data`, and passing other arguments without an explicit keyword will result in an error or misinterpretation.\n",
      "  warnings.warn(\n",
      "C:\\Users\\adita\\anaconda3\\lib\\site-packages\\seaborn\\_decorators.py:36: FutureWarning: Pass the following variables as keyword args: x, y. From version 0.12, the only valid positional argument will be `data`, and passing other arguments without an explicit keyword will result in an error or misinterpretation.\n",
      "  warnings.warn(\n",
      "C:\\Users\\adita\\anaconda3\\lib\\site-packages\\seaborn\\_decorators.py:36: FutureWarning: Pass the following variables as keyword args: x, y. From version 0.12, the only valid positional argument will be `data`, and passing other arguments without an explicit keyword will result in an error or misinterpretation.\n",
      "  warnings.warn(\n",
      "C:\\Users\\adita\\anaconda3\\lib\\site-packages\\seaborn\\_decorators.py:36: FutureWarning: Pass the following variables as keyword args: x, y. From version 0.12, the only valid positional argument will be `data`, and passing other arguments without an explicit keyword will result in an error or misinterpretation.\n",
      "  warnings.warn(\n",
      "C:\\Users\\adita\\anaconda3\\lib\\site-packages\\seaborn\\_decorators.py:36: FutureWarning: Pass the following variables as keyword args: x, y. From version 0.12, the only valid positional argument will be `data`, and passing other arguments without an explicit keyword will result in an error or misinterpretation.\n",
      "  warnings.warn(\n",
      "C:\\Users\\adita\\anaconda3\\lib\\site-packages\\seaborn\\_decorators.py:36: FutureWarning: Pass the following variables as keyword args: x, y. From version 0.12, the only valid positional argument will be `data`, and passing other arguments without an explicit keyword will result in an error or misinterpretation.\n",
      "  warnings.warn(\n",
      "C:\\Users\\adita\\anaconda3\\lib\\site-packages\\seaborn\\_decorators.py:36: FutureWarning: Pass the following variables as keyword args: x, y. From version 0.12, the only valid positional argument will be `data`, and passing other arguments without an explicit keyword will result in an error or misinterpretation.\n",
      "  warnings.warn(\n"
     ]
    },
    {
     "data": {
      "image/png": "[encoded data removed]",
      "text/plain": [
       "<Figure size 1440x720 with 1 Axes>"
      ]
     },
     "metadata": {
      "needs_background": "light"
     },
     "output_type": "display_data"
    }
   ],
   "source": [
    "plt.figure(figsize=(20,10))\n",
    "sns.scatterplot(sent_vectors[word_cluster_pred == 0, 0], sent_vectors[word_cluster_pred == 0, 1], color = 'yellow', label = 'Cluster 1',s=50)\n",
    "sns.scatterplot(sent_vectors[word_cluster_pred == 1, 0], sent_vectors[word_cluster_pred == 1, 1], color = 'blue', label = 'Cluster 2',s=50)\n",
    "sns.scatterplot(sent_vectors[word_cluster_pred == 2, 0], sent_vectors[word_cluster_pred == 2, 1], color = 'green', label = 'Cluster 3',s=50)\n",
    "sns.scatterplot(sent_vectors[word_cluster_pred == 3, 0], sent_vectors[word_cluster_pred == 3, 1], color = 'grey', label = 'Cluster 4',s=50)\n",
    "sns.scatterplot(sent_vectors[word_cluster_pred == 4, 0], sent_vectors[word_cluster_pred == 4, 1], color = 'orange', label = 'Cluster 5',s=50)\n",
    "sns.scatterplot(sent_vectors[word_cluster_pred == 5, 0], sent_vectors[word_cluster_pred == 5, 1], color = 'brown', label = 'Cluster 6',s=50)\n",
    "sns.scatterplot(sent_vectors[word_cluster_pred == 6, 0], sent_vectors[word_cluster_pred == 6, 1], color = 'pink', label = 'Cluster 7',s=50)\n",
    "\n",
    "plt.grid(False)\n",
    "plt.title('Clusters')\n",
    "plt.xlabel('X')\n",
    "plt.ylabel('Y')\n",
    "plt.legend()\n",
    "plt.show()"
   ]
  },
  {
   "cell_type": "code",
   "execution_count": 110,
   "metadata": {
    "scrolled": true
   },
   "outputs": [
    {
     "data": {
      "text/plain": [
       "<matplotlib.lines.Line2D at 0x16d00c8d1c0>"
      ]
     },
     "execution_count": 110,
     "metadata": {},
     "output_type": "execute_result"
    },
    {
     "data": {
      "image/png": "[encoded data removed]",
      "text/plain": [
       "<Figure size 1440x720 with 1 Axes>"
      ]
     },
     "metadata": {
      "needs_background": "light"
     },
     "output_type": "display_data"
    }
   ],
   "source": [
    "colorlist =[\"yellow\",\"blue\",\"green\",\"grey\",\"orange\",\"brown\",\"pink\"]\n",
    "\n",
    "fig =plt.figure()\n",
    "fig.set_size_inches(20, 10)\n",
    "ax = fig.add_subplot(1,1,1)\n",
    "y_lower =1\n",
    "for i in range(n_clusters):\n",
    "    ith_cluster_silhouette_values = each_silhouette_score[sil == i]\n",
    "    ith_cluster_silhouette_values.sort()\n",
    "    size_cluster_i = ith_cluster_silhouette_values.shape[0]\n",
    "    y_upper = y_lower + size_cluster_i\n",
    "    \n",
    "    color = colorlist[i]\n",
    "    ax.fill_betweenx(np.arange(y_lower,y_upper),0,ith_cluster_silhouette_values,facecolor=color,edgecolor=color,alpha=0.3)\n",
    "    \n",
    "    ax.text(-0.05,y_lower + 0.5 * size_cluster_i,str(i))\n",
    "\n",
    "    y_lower = y_upper +10 \n",
    "    \n",
    "ax.set_title(\"Silhuoette plot\")\n",
    "ax.set_xlabel(\"silhouette score\")\n",
    "ax.set_ylabel(\"Cluster label\")\n",
    "    \n",
    "\n",
    "ax.axvline(x=silhouette_score,color=\"red\",linestyle=\"--\")"
   ]
  },
  {
   "cell_type": "code",
   "execution_count": 111,
   "metadata": {
    "scrolled": false
   },
   "outputs": [],
   "source": [
    "sample_silhouette_values = metrics.silhouette_samples(sent_vectors,sil,metric='euclidean')\n",
    "num_clusters = 4\n",
    "means_lst = []\n",
    "for label in range(num_clusters):\n",
    "    means_lst.append(sample_silhouette_values[word_cluster_pred_2 == label].mean())"
   ]
  },
  {
   "cell_type": "code",
   "execution_count": 112,
   "metadata": {
    "scrolled": false
   },
   "outputs": [
    {
     "data": {
      "text/plain": [
       "[0.6058758931275712,\n",
       " 0.5166126689904127,\n",
       " 0.32360812882719886,\n",
       " 0.1253191379882565]"
      ]
     },
     "execution_count": 112,
     "metadata": {},
     "output_type": "execute_result"
    }
   ],
   "source": [
    "means_lst"
   ]
  },
  {
   "cell_type": "code",
   "execution_count": null,
   "metadata": {},
   "outputs": [],
   "source": []
  },
  {
   "cell_type": "code",
   "execution_count": null,
   "metadata": {},
   "outputs": [],
   "source": []
  }
 ],
 "metadata": {
  "kernelspec": {
   "display_name": "Python 3 (ipykernel)",
   "language": "python",
   "name": "python3"
  },
  "language_info": {
   "codemirror_mode": {
    "name": "ipython",
    "version": 3
   },
   "file_extension": ".py",
   "mimetype": "text/x-python",
   "name": "python",
   "nbconvert_exporter": "python",
   "pygments_lexer": "ipython3",
   "version": "3.9.12"
  }
 },
 "nbformat": 4,
 "nbformat_minor": 4
}
